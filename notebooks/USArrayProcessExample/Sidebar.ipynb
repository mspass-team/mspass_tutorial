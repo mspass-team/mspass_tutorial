{
 "cells": [
  {
   "cell_type": "markdown",
   "id": "442acc98-4ad4-49ec-a7d7-de6c3f3dfb55",
   "metadata": {},
   "source": [
    "# Sidebar Notebook\n",
    "Something I have found universally useful in working with large data sets like this is to create a scatch notebook like this one.  The purpose is to run one up validations while working on the full data set.   I include this notebook in this mspass_tutorial directory to illustrate the use, but anyone reading this should recognize a notebook like this should be treated as a scratch workspace that connects to MongoDB and allows you to explore the state of your data.  \n",
    "\n",
    "The first step is always the stock MsPASS incantation to connect to MongoDB.  The dataase name in the call `dbclient.get_database()` is, of course, a variable.  "
   ]
  },
  {
   "cell_type": "code",
   "execution_count": null,
   "id": "1c40d53d-6cf0-49b4-8847-30bdeb5ee4ba",
   "metadata": {
    "tags": []
   },
   "outputs": [],
   "source": [
    "from mspasspy.db.client import DBClient\n",
    "dbclient=DBClient()\n",
    "db = dbclient.get_database(\"usarray2014\")"
   ]
  },
  {
   "cell_type": "markdown",
   "id": "a183e08d-ea54-43e5-ac15-9f5f45b391ee",
   "metadata": {},
   "source": [
    "Here is a common initial, fast test.  Peek at the first record of wf_miniseed."
   ]
  },
  {
   "cell_type": "code",
   "execution_count": null,
   "id": "37daff06-5b98-446a-9a6f-c0d00f854e67",
   "metadata": {},
   "outputs": [],
   "source": [
    "from mspasspy.util.seismic import print_metadata\n",
    "doc=db.wf_miniseed.find_one()\n",
    "print_metadata(doc)"
   ]
  },
  {
   "cell_type": "markdown",
   "id": "803f52ce-cc23-4a61-aae7-e01e43788a68",
   "metadata": {},
   "source": [
    "This is a typical example of a validation block.  Checks how well normalization worked on this database."
   ]
  },
  {
   "cell_type": "code",
   "execution_count": null,
   "id": "a5ecd333-8aed-43aa-a8ce-d21fec26be04",
   "metadata": {},
   "outputs": [],
   "source": [
    "n = db.wf_miniseed.count_documents({})\n",
    "print(\"Total number of documents in wf_miniseed=\",n)\n",
    "query={\"channel_id\" : {\"$exists\" : True}}\n",
    "n1 = db.wf_miniseed.count_documents(query)\n",
    "print(\"Number of documents with channel_id defined=\",n1)"
   ]
  },
  {
   "cell_type": "markdown",
   "id": "971ceb51-3998-4878-8761-efd905edac1b",
   "metadata": {},
   "source": [
    "This command is often useful if something went wrong during indexing and wf_miniseed is incomplete and needs to rebuilt.   It also illustrate that when I create one of these notebooks I ONLY run it interactively and the cells are not necessarily all executed or run in sequence.  "
   ]
  },
  {
   "cell_type": "code",
   "execution_count": null,
   "id": "5b3dcc36-38e1-4c16-a556-5aa09921d197",
   "metadata": {},
   "outputs": [],
   "source": [
    "db.drop_collection(\"wf_miniseed\")"
   ]
  },
  {
   "cell_type": "markdown",
   "id": "45c21aa9-1d2e-49c3-abe6-3cdb00a1e041",
   "metadata": {},
   "source": [
    "This command is often useful to check the status of the database."
   ]
  },
  {
   "cell_type": "code",
   "execution_count": null,
   "id": "c968ec7e-7081-4b82-9621-fd0f2457690c",
   "metadata": {},
   "outputs": [],
   "source": [
    "cursor=db.list_collections()\n",
    "for doc in cursor:\n",
    "    print(doc['name'])"
   ]
  },
  {
   "cell_type": "markdown",
   "id": "d9e0c0f1-7a93-4b57-a532-a9f77bdb9af5",
   "metadata": {},
   "source": [
    "This incantation is useful to clear out everything except wf_miniseed.   It is useful if something went wrong in one of the \"Preprocess*\" scripts and you need start from only the wf_miniseed content."
   ]
  },
  {
   "cell_type": "code",
   "execution_count": null,
   "id": "58786a53-80b3-4d29-bf2e-88b459aa4584",
   "metadata": {},
   "outputs": [],
   "source": [
    "cleanlist=[\"abortions\",\"cemetery\",\"history_object\",\"wf_Seismogram\",\"wf_TimeSeries\",\"history_global\",\"fs.chunks\",\"fs.files\",\"elog\"]\n",
    "for c in cleanlist:\n",
    "    db.drop_collection(c)"
   ]
  }
 ],
 "metadata": {
  "kernelspec": {
   "display_name": "Python 3 (ipykernel)",
   "language": "python",
   "name": "python3"
  },
  "language_info": {
   "codemirror_mode": {
    "name": "ipython",
    "version": 3
   },
   "file_extension": ".py",
   "mimetype": "text/x-python",
   "name": "python",
   "nbconvert_exporter": "python",
   "pygments_lexer": "ipython3",
   "version": "3.10.15"
  }
 },
 "nbformat": 4,
 "nbformat_minor": 5
}
