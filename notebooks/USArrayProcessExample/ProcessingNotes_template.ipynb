{
 "cells": [
  {
   "cell_type": "markdown",
   "id": "ac2d98cd-3d4a-4e89-9354-5c4327b75caf",
   "metadata": {},
   "source": [
    "# Processing Notes\n",
    "Best practice for handling large data sets with MsPASS require a notebook like this one.  The purpose of a notebook like this is to record progress in working through a large data set and any problems that required additional efforts to address.   The entire point is to provide a record that will allow someone else to reproduce your work.\n",
    "\n",
    "This notebook may contain just plain text, but can also contain code fragments used to demonstrate issues that happen.   In general, it should never be designed as a notebook that would be run independently.   It is reasonable to put this stock incantation for this set of notebooks as any code blocks you would want to run will likely need this."
   ]
  },
  {
   "cell_type": "code",
   "execution_count": null,
   "id": "23a01638-541b-4f72-aebf-0ffc41f87579",
   "metadata": {},
   "outputs": [],
   "source": [
    "# change for different calendar year\n",
    "year = 2014\n",
    "dbname = \"usarray{}\".format(year)\n",
    "tsdir=\"./wf_TimeSeries/{}\".format(year)\n",
    "dbmaster=\"usarray48\""
   ]
  },
  {
   "cell_type": "code",
   "execution_count": null,
   "id": "41264258-6651-433d-9b7c-4f95faae86c2",
   "metadata": {},
   "outputs": [],
   "source": [
    "import mspasspy.client as msc\n",
    "mspass_client = msc.Client(database_name=dbname)\n",
    "# waveform data indexed to here\n",
    "db = mspass_client.get_database()\n",
    "# master database with source and receiver metadata\n",
    "dbmd = mspass_client.get_database(dbmaster)\n"
   ]
  },
  {
   "cell_type": "markdown",
   "id": "e021cb5e-5114-46e1-b267-6d19320ea00c",
   "metadata": {},
   "source": [
    "# Creating Master Database\n",
    "Record any issues in running CreateMasterDatabase.ipynb.   If nothing else record the timing data and when the work was done."
   ]
  },
  {
   "cell_type": "markdown",
   "id": "4406dbb1-5c3e-4c3e-acc8-22667132013e",
   "metadata": {},
   "source": [
    "# Yearly Processing\n",
    "Record your notes below for each year.  Insert additional boxes if necessary.  "
   ]
  },
  {
   "cell_type": "markdown",
   "id": "64a3d32a-fd30-48db-851b-6d515c6e4e53",
   "metadata": {},
   "source": [
    "## 2005"
   ]
  },
  {
   "cell_type": "markdown",
   "id": "e0ede379-d12f-4edf-99de-b780631f87ef",
   "metadata": {},
   "source": [
    "## 2006"
   ]
  },
  {
   "cell_type": "markdown",
   "id": "78f7cc81-a400-47ff-9a07-41b6b128ab27",
   "metadata": {},
   "source": [
    "## 2006"
   ]
  },
  {
   "cell_type": "markdown",
   "id": "9b33121e-5355-496e-9c7d-ec1f88266d7c",
   "metadata": {},
   "source": [
    "## 2007"
   ]
  },
  {
   "cell_type": "markdown",
   "id": "73e46171-9bad-45a8-993b-2b3cdeda8062",
   "metadata": {},
   "source": [
    "## 2008"
   ]
  },
  {
   "cell_type": "markdown",
   "id": "69b17c83-5185-406e-b6bb-2cf0b9c24086",
   "metadata": {},
   "source": [
    "## 2009"
   ]
  },
  {
   "cell_type": "markdown",
   "id": "26c5283e-af7a-4907-ae39-374b185eed7a",
   "metadata": {},
   "source": [
    "## 2010"
   ]
  },
  {
   "cell_type": "markdown",
   "id": "dd9d345b-6a27-42a5-908f-e5bd54642034",
   "metadata": {},
   "source": [
    "## 2011"
   ]
  },
  {
   "cell_type": "markdown",
   "id": "bcdc0c03-284e-4a46-8b2d-32e73de03d66",
   "metadata": {},
   "source": [
    "## 2012"
   ]
  },
  {
   "cell_type": "markdown",
   "id": "c9f4b1d6-1650-438a-bb23-26d49e7eb07b",
   "metadata": {},
   "source": [
    "## 2013"
   ]
  },
  {
   "cell_type": "markdown",
   "id": "216ad965-746f-4973-9da9-2a3bfbc97fda",
   "metadata": {},
   "source": [
    "## 2014"
   ]
  },
  {
   "cell_type": "markdown",
   "id": "40b83ac7-0dae-4cb0-8ce8-623e3b2eaf91",
   "metadata": {},
   "source": [
    "## 2015"
   ]
  }
 ],
 "metadata": {
  "kernelspec": {
   "display_name": "Python 3 (ipykernel)",
   "language": "python",
   "name": "python3"
  },
  "language_info": {
   "codemirror_mode": {
    "name": "ipython",
    "version": 3
   },
   "file_extension": ".py",
   "mimetype": "text/x-python",
   "name": "python",
   "nbconvert_exporter": "python",
   "pygments_lexer": "ipython3",
   "version": "3.10.15"
  }
 },
 "nbformat": 4,
 "nbformat_minor": 5
}
