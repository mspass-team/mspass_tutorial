{
 "cells": [
  {
   "cell_type": "markdown",
   "id": "cf17dfec-3239-4336-9d2f-5d4a1a93a442",
   "metadata": {},
   "source": [
    "# Stage 1:  Build wf_miniseed \n",
    "This notebook is the first step for processing the extended usarray data set in year segments. It runs the indexing program to build a set of index documents in the wf_miniseed collection.  It then runs bulk_normalize to create the channel_id and site_id cross references in the wf_miniseed documents.   That is essential for the second stage of the processing.\n",
    "\n",
    "This is a separate notebook because prototypes demonstrated:\n",
    "1.  There are too many potential issues with miniseed data that can cause problems that is is useful to checkpoint the job at the end of the notebook to verify things are ok. That is particularly  true of normalizations and potential miniseed data problems.\n",
    "2.  This notebook is note efficient to runw with a larger number of workers like the subsequent notebooks.   Running in with only 8 workers or so with a small memory requirement can be it through faster than waiting for a larger job requiring more resources, which is the case for the notebooks run after this one. "
   ]
  },
  {
   "cell_type": "code",
   "execution_count": null,
   "id": "712c361f-185a-49b9-a548-4cf55cdca4ff",
   "metadata": {},
   "outputs": [],
   "source": [
    "# change for different calendar year\n",
    "year = 2014\n",
    "dbname = \"usarray{}\".format(year)\n",
    "dbmaster=\"usarray48\""
   ]
  },
  {
   "cell_type": "code",
   "execution_count": null,
   "id": "506ac77c-d382-42b5-a3c8-795e400864ec",
   "metadata": {},
   "outputs": [],
   "source": [
    "import mspasspy.client as msc\n",
    "mspass_client = msc.Client(database_name=dbname)\n",
    "# waveform data indexed to here\n",
    "db = mspass_client.get_database()\n",
    "# master database with source and receiver metadata\n",
    "dbmd = mspass_client.get_database(dbmaster)\n"
   ]
  },
  {
   "cell_type": "code",
   "execution_count": null,
   "id": "744ff640-a240-49d3-a5e2-ba53c75f8bb7",
   "metadata": {},
   "outputs": [],
   "source": [
    "# This builds a file list to drive index processing\n",
    "import os\n",
    "import fnmatch\n",
    "import dask.bag as dbg\n",
    "topdirectory=\"./wf\"\n",
    "# assume year was defined at the top and data have the structure of wf/year/*.mseed\n",
    "dir=\"{}/{}\".format(topdirectory,year)\n",
    "filelist=fnmatch.filter(os.listdir(dir),'*.mseed')\n",
    "tstart=time.time()\n",
    "data = dbg.from_sequence(filelist)\n",
    "data = data.map(db.index_mseed_file,dir)\n",
    "data=data.compute()\n",
    "tend=time.time()\n",
    "print(\"Elapsed time to run index_mseed_file=\",tend-tstart)"
   ]
  },
  {
   "cell_type": "markdown",
   "id": "eff8fabf-11e6-45d6-8d8a-0b3e4b9e5218",
   "metadata": {},
   "source": [
    "Normalization of the mseed records is complicated by the fact we are using two databases here.  The current normalize_mseed will not work because it assumes one db holds wf_miniseed and the channel-site collections.  For that reason I use bulk_normalize which is more generic.  That, of course, is why the first part of this block creates the MiniseedMatcher and OriginTimeMatcher instance. \n",
    "\n",
    "Note the memory footprint of this job could be reduced by using the query parameter for the constructors for MiniseedMatcher and OriginTimeMatcher, but since this section is a serial job and the objects aren't that huge anyway I don't bother.   "
   ]
  },
  {
   "cell_type": "code",
   "execution_count": null,
   "id": "e4988418-28ab-4ea5-9190-9e307e31d3c5",
   "metadata": {},
   "outputs": [],
   "source": [
    "from mspasspy.db.normalize import MiniseedMatcher,OriginTimeMatcher,bulk_normalize\n",
    "# prepend_collection_name defaults to True but best to be clear that is essential here\n",
    "chan_matcher = MiniseedMatcher(dbmd,\n",
    "                               collection=\"channel\",\n",
    "                               prepend_collection_name=True,\n",
    "                              )\n",
    "site_matcher = MiniseedMatcher(dbmd,\n",
    "                               collection=\"site\",\n",
    "                               attributes_to_load=[\"_id\",\"lat\",\"lon\",\"elev\",\"starttime\",\"endtime\"],\n",
    "                               prepend_collection_name=True,\n",
    "                              )\n",
    "source_matcher = OriginTimeMatcher(dbmd,\n",
    "                                   t0offset=0.0,\n",
    "                                   tolerance=100.0,\n",
    "                                   attributes_to_load=['_id','time'])\n",
    "bno=bulk_normalize(db,wf_col=\"wf_miniseed\",matcher_list=[chan_matcher,site_matcher,source_matcher])"
   ]
  },
  {
   "cell_type": "code",
   "execution_count": null,
   "id": "448140e0-9beb-462c-a424-b991d625b2bc",
   "metadata": {},
   "outputs": [],
   "source": [
    "print(\"Number of channel_id values set=\",bno[1])\n",
    "print(\"Number of site_id values set=\",bno[2])\n",
    "print(\"Number of source_id values set=\",bno[3])\n",
    "print(\"Number of documents processed=\",bno[0])"
   ]
  }
 ],
 "metadata": {
  "kernelspec": {
   "display_name": "Python 3 (ipykernel)",
   "language": "python",
   "name": "python3"
  },
  "language_info": {
   "codemirror_mode": {
    "name": "ipython",
    "version": 3
   },
   "file_extension": ".py",
   "mimetype": "text/x-python",
   "name": "python",
   "nbconvert_exporter": "python",
   "pygments_lexer": "ipython3",
   "version": "3.10.15"
  }
 },
 "nbformat": 4,
 "nbformat_minor": 5
}
