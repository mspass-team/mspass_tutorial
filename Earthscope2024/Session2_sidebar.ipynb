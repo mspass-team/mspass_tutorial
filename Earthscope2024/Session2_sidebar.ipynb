{
 "cells": [
  {
   "cell_type": "markdown",
   "id": "3faf7bd3-7784-4eef-8ca3-8105b2bc5896",
   "metadata": {},
   "source": [
    "# MongoDB Sidebar Notebook\n",
    "This small notebook has some auxiliary material used by Pavlis during lecture of Session2 of the Earthscope class on MsPASS.  \n",
    "\n",
    "## The Python Dictionary\n",
    "I expect most of you are already familiar with python dictionaries.  Python dictionaries are the primary data structure used in pymongo.  THE most important concept for a python dictionary for MongoDB is the idea of a key-value pair.  This simple code demonstrates the idea:"
   ]
  },
  {
   "cell_type": "code",
   "execution_count": 3,
   "id": "774763ff-df3b-4fcf-b282-a8cdef324fce",
   "metadata": {},
   "outputs": [
    {
     "name": "stdout",
     "output_type": "stream",
     "text": [
      "The type of x is  <class 'dict'>\n",
      "Content:  {'foo': 'bar', 'fval': 2.0, 'ival': 10}\n"
     ]
    }
   ],
   "source": [
    "x = dict()\n",
    "x['foo'] = 'bar'\n",
    "x['fval']= 2.0\n",
    "x['ival'] = 10\n",
    "print(\"The type of x is \",type(x))\n",
    "print(\"Content: \",x)"
   ]
  },
  {
   "cell_type": "markdown",
   "id": "00c72a65-2c6a-447c-a18a-8ccd46e5dfdb",
   "metadata": {},
   "source": [
    "# MsPASS data objects and key-value pairs\n",
    "MsPASS seismic data objects all inherit a container that make them \"dictionary like\".   The following block illustrates that by redefining *x* as a MsPASS `TimeSeries` object and applying exactly the same set of python commmands we used above:"
   ]
  },
  {
   "cell_type": "code",
   "execution_count": 4,
   "id": "8454493c-9d72-489d-b31a-f8b1ec0537fd",
   "metadata": {},
   "outputs": [
    {
     "name": "stdout",
     "output_type": "stream",
     "text": [
      "The type of x is  <class 'mspasspy.ccore.seismic.TimeSeries'>\n",
      "Content:  {'delta': 1.000000, 'foo': 'bar', 'fval': 2.000000, 'ival': 10, 'npts': 0, 'starttime': 0.000000}\n"
     ]
    }
   ],
   "source": [
    "from mspasspy.ccore.seismic import TimeSeries\n",
    "x=TimeSeries()\n",
    "x['foo'] = 'bar'\n",
    "x['fval']= 2.0\n",
    "x['ival'] = 10\n",
    "print(\"The type of x is \",type(x))\n",
    "print(\"Content: \",x)"
   ]
  },
  {
   "cell_type": "markdown",
   "id": "f32c3492-9220-4f72-ad3d-6ee56550ad80",
   "metadata": {},
   "source": [
    "Noting that the `TimeSeries` object added three key-value pairs that are the required bare minimum to fully define single channel of data:   delta = sample interval, npts = number of samples, and start_time = time of the first sample of data.   The value here are defaults created when we \"constructed\" x with the line `x=TimeSEries()`.  \n",
    "\n",
    "This is a good example of what is common called [duck typing](https://www.geeksforgeeks.org/duck-typing-in-python/) in python. (\"If it walks like a duck and talks like a duck it must be a duck.\")  MsPASS seismic data objects implement a generalized header by being \"dictionary like\" - a duck type concept."
   ]
  },
  {
   "cell_type": "code",
   "execution_count": null,
   "id": "8543ef1c-b12f-45fa-89ab-d0526f8272d8",
   "metadata": {},
   "outputs": [],
   "source": []
  }
 ],
 "metadata": {
  "kernelspec": {
   "display_name": "Python 3 (ipykernel)",
   "language": "python",
   "name": "python3"
  },
  "language_info": {
   "codemirror_mode": {
    "name": "ipython",
    "version": 3
   },
   "file_extension": ".py",
   "mimetype": "text/x-python",
   "name": "python",
   "nbconvert_exporter": "python",
   "pygments_lexer": "ipython3",
   "version": "3.11.9"
  }
 },
 "nbformat": 4,
 "nbformat_minor": 5
}
