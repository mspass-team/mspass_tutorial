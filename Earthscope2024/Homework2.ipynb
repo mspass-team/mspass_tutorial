{
 "cells": [
  {
   "cell_type": "markdown",
   "id": "6d58b420-2d0f-4fb7-84e4-0b20d3d397a0",
   "metadata": {},
   "source": [
    "# Session 2 Homework\n",
    "For this homework you will need to first connect to the MongoDB database you have been using throughout the course.   We assume you know how to do that now."
   ]
  },
  {
   "cell_type": "markdown",
   "id": "21620885-57e3-4048-af55-4681fe925ca3",
   "metadata": {},
   "source": [
    "## Question 1:\n",
    "Print a projection of the entire content of the source collection in tabular form using pandas.   The table should include only the following attributes: lat, lon, depth, time, magnitude.   (Note it is wrong if the table has the \"_id\" field included.)   "
   ]
  },
  {
   "cell_type": "code",
   "execution_count": 1,
   "id": "ab3cebe3-9e19-4893-8545-1ec68ec3d3c3",
   "metadata": {
    "tags": []
   },
   "outputs": [],
   "source": [
    "# Delete me - for testing only\n",
    "from mspasspy.db.database import Database   # This isn't strictly needed but used here because db set below is an instance of this class\n",
    "import mspasspy.client as msc\n",
    "dbclient=msc.Client()\n",
    "db = dbclient.get_database('Earthscope2024')"
   ]
  },
  {
   "cell_type": "markdown",
   "id": "fb0a234d-14dd-447a-b83b-695846ec3681",
   "metadata": {},
   "source": [
    "A solution for 1"
   ]
  },
  {
   "cell_type": "code",
   "execution_count": 9,
   "id": "b5770803-1b7a-4d97-9183-3d19e7b8ad97",
   "metadata": {},
   "outputs": [
    {
     "name": "stdout",
     "output_type": "stream",
     "text": [
      "        lat       lon  depth          time  magnitude\n",
      "0   -7.5278  146.8140  128.5  1.323839e+09        7.1\n",
      "1  -14.5572  -76.1207   29.0  1.319828e+09        7.0\n",
      "2   38.7294   43.4465    7.6  1.319366e+09        7.1\n",
      "3  -28.8809 -176.0332   34.8  1.319220e+09        7.4\n",
      "4  -21.5930 -179.3240  629.0  1.316115e+09        7.3\n",
      "5  -20.6279  169.7780  136.6  1.315091e+09        7.0\n",
      "6   -7.6203  -74.5380  149.3  1.314208e+09        7.0\n",
      "7  -18.3312  168.2258   31.5  1.313864e+09        7.0\n",
      "8  -18.2774  168.0670   34.6  1.313859e+09        7.1\n",
      "9   38.0553  143.3016   24.7  1.310259e+09        7.0\n",
      "10 -29.3073 -176.2572   25.4  1.309979e+09        7.6\n",
      "11  51.9805 -171.8201   49.8  1.308885e+09        7.3\n",
      "12  38.2513  141.7296   53.2  1.302187e+09        7.1\n",
      "13  38.0510  144.6297   19.8  1.299825e+09        7.6\n",
      "14  36.2274  141.0880   25.4  1.299824e+09        7.9\n",
      "15  38.2963  142.4980   19.7  1.299822e+09        9.1\n",
      "16  38.4407  142.9803   26.2  1.299639e+09        7.3\n",
      "17  28.6831   63.9948   79.9  1.295382e+09        7.2\n",
      "18 -38.3907  -73.3993   24.4  1.294000e+09        7.1\n",
      "19 -26.8513  -63.2373  584.3  1.293876e+09        7.0\n"
     ]
    }
   ],
   "source": [
    "import pandas as pd\n",
    "projection={'lat':1,'lon':1,'depth':1,'time':1,'magnitude':1,'_id':0}\n",
    "cursor=db.source.find({},projection)\n",
    "doclist=[]\n",
    "for doc in cursor:\n",
    "    doclist.append(doc)\n",
    "df = pd.DataFrame.from_dict(doclist)\n",
    "print(df)"
   ]
  },
  {
   "cell_type": "markdown",
   "id": "077873a8-978c-46a8-8504-fe8737ce2620",
   "metadata": {},
   "source": [
    "## Question 2: \n",
    "Modify the output to print the origin times with obspy's UTCDateTime.  i.e. convert the times to a human readable form. Also produce the output in time order from earliest to latest."
   ]
  },
  {
   "cell_type": "code",
   "execution_count": null,
   "id": "c12ab269-583d-45d4-b91f-722707c60a7e",
   "metadata": {},
   "outputs": [],
   "source": []
  },
  {
   "cell_type": "code",
   "execution_count": 11,
   "id": "fb2f91f8-77d3-4dd2-9abf-179d1ae14262",
   "metadata": {},
   "outputs": [
    {
     "name": "stdout",
     "output_type": "stream",
     "text": [
      "        lat       lon  depth                         time  magnitude\n",
      "0  -26.8513  -63.2373  584.3  2011-01-01T09:56:58.460000Z        7.0\n",
      "1  -38.3907  -73.3993   24.4  2011-01-02T20:20:18.170000Z        7.1\n",
      "2   28.6831   63.9948   79.9  2011-01-18T20:23:25.570000Z        7.2\n",
      "3   38.4407  142.9803   26.2  2011-03-09T02:45:19.590000Z        7.3\n",
      "4   38.2963  142.4980   19.7  2011-03-11T05:46:23.200000Z        9.1\n",
      "5   36.2274  141.0880   25.4  2011-03-11T06:15:37.570000Z        7.9\n",
      "6   38.0510  144.6297   19.8  2011-03-11T06:25:50.740000Z        7.6\n",
      "7   38.2513  141.7296   53.2  2011-04-07T14:32:44.100000Z        7.1\n",
      "8   51.9805 -171.8201   49.8  2011-06-24T03:09:38.920000Z        7.3\n",
      "9  -29.3073 -176.2572   25.4  2011-07-06T19:03:20.470000Z        7.6\n",
      "10  38.0553  143.3016   24.7  2011-07-10T00:57:10.910000Z        7.0\n",
      "11 -18.2774  168.0670   34.6  2011-08-20T16:55:04.090000Z        7.1\n",
      "12 -18.3312  168.2258   31.5  2011-08-20T18:19:24.610000Z        7.0\n",
      "13  -7.6203  -74.5380  149.3  2011-08-24T17:46:11.560000Z        7.0\n",
      "14 -20.6279  169.7780  136.6  2011-09-03T22:55:35.760000Z        7.0\n",
      "15 -21.5930 -179.3240  629.0  2011-09-15T19:31:03.160000Z        7.3\n",
      "16 -28.8809 -176.0332   34.8  2011-10-21T17:57:17.310000Z        7.4\n",
      "17  38.7294   43.4465    7.6  2011-10-23T10:41:22.010000Z        7.1\n",
      "18 -14.5572  -76.1207   29.0  2011-10-28T18:54:34.750000Z        7.0\n",
      "19  -7.5278  146.8140  128.5  2011-12-14T05:04:57.810000Z        7.1\n"
     ]
    }
   ],
   "source": [
    "from obspy import UTCDateTime\n",
    "# solution\n",
    "cursor=db.source.find({},projection).sort('time')\n",
    "doclist=[]\n",
    "for doc in cursor:\n",
    "    doclist.append(doc)\n",
    "    doc['time'] = UTCDateTime(doc['time'])\n",
    "df = pd.DataFrame.from_dict(doclist)\n",
    "print(df)"
   ]
  },
  {
   "cell_type": "markdown",
   "id": "4ca9331d-4d2a-4603-acae-9ca3e4eafeaf",
   "metadata": {},
   "source": [
    "## Question 3\n",
    "Alter your previous python code to only include sources with an origin time between Jan. 1, 2011 and the end of March (Mar. 31, 2011).   (Hint:   MsPASS stores time as a unix epoch time which can be obtained from a UTCDateTime object with the \"timestamp\" method.)"
   ]
  },
  {
   "cell_type": "code",
   "execution_count": null,
   "id": "c8a96fe7-fba3-4956-ad87-8bb59603ebc7",
   "metadata": {},
   "outputs": [],
   "source": []
  },
  {
   "cell_type": "code",
   "execution_count": 13,
   "id": "aafe8965-58f1-4c32-8e72-cbe114cd738e",
   "metadata": {},
   "outputs": [
    {
     "name": "stdout",
     "output_type": "stream",
     "text": [
      "7\n",
      "       lat       lon  depth                         time  magnitude\n",
      "0 -26.8513  -63.2373  584.3  2011-01-01T09:56:58.460000Z        7.0\n",
      "1 -38.3907  -73.3993   24.4  2011-01-02T20:20:18.170000Z        7.1\n",
      "2  28.6831   63.9948   79.9  2011-01-18T20:23:25.570000Z        7.2\n",
      "3  38.4407  142.9803   26.2  2011-03-09T02:45:19.590000Z        7.3\n",
      "4  38.2963  142.4980   19.7  2011-03-11T05:46:23.200000Z        9.1\n",
      "5  36.2274  141.0880   25.4  2011-03-11T06:15:37.570000Z        7.9\n",
      "6  38.0510  144.6297   19.8  2011-03-11T06:25:50.740000Z        7.6\n"
     ]
    }
   ],
   "source": [
    "# solution\n",
    "tstart = UTCDateTime('2011-01-01T00:00:00.0')\n",
    "tend = UTCDateTime('2011-04-01T00:00:00.0')\n",
    "query={}\n",
    "query['time'] = { '$gt' : tstart.timestamp, '$lt' : tend.timestamp}\n",
    "n = db.source.count_documents(query)\n",
    "print(n)\n",
    "cursor=db.source.find(query,projection).sort('time')\n",
    "doclist=[]\n",
    "for doc in cursor:\n",
    "    doclist.append(doc)\n",
    "    doc['time'] = UTCDateTime(doc['time'])\n",
    "df = pd.DataFrame.from_dict(doclist)\n",
    "print(df)"
   ]
  },
  {
   "cell_type": "code",
   "execution_count": null,
   "id": "631a9840-131b-4688-bdca-bbfc7080a614",
   "metadata": {},
   "outputs": [],
   "source": []
  }
 ],
 "metadata": {
  "kernelspec": {
   "display_name": "Python 3 (ipykernel)",
   "language": "python",
   "name": "python3"
  },
  "language_info": {
   "codemirror_mode": {
    "name": "ipython",
    "version": 3
   },
   "file_extension": ".py",
   "mimetype": "text/x-python",
   "name": "python",
   "nbconvert_exporter": "python",
   "pygments_lexer": "ipython3",
   "version": "3.10.14"
  }
 },
 "nbformat": 4,
 "nbformat_minor": 5
}
