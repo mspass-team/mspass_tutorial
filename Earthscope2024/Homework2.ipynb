{
 "cells": [
  {
   "cell_type": "markdown",
   "id": "6d58b420-2d0f-4fb7-84e4-0b20d3d397a0",
   "metadata": {},
   "source": [
    "# Session 2 Homework\n",
    "For this homework you will need to first connect to the MongoDB database you have been using throughout the course.   We assume you know how to do that now."
   ]
  },
  {
   "cell_type": "markdown",
   "id": "21620885-57e3-4048-af55-4681fe925ca3",
   "metadata": {},
   "source": [
    "## Question 1:\n",
    "Print a projection of the entire content of the source collection in tabular form using pandas.   The table should include only the following attributes: lat, lon, depth, time, magnitude.   (Note it is wrong if the table has the \"_id\" field included.)   "
   ]
  },
  {
   "cell_type": "code",
   "execution_count": null,
   "id": "b5770803-1b7a-4d97-9183-3d19e7b8ad97",
   "metadata": {},
   "outputs": [],
   "source": []
  },
  {
   "cell_type": "markdown",
   "id": "077873a8-978c-46a8-8504-fe8737ce2620",
   "metadata": {},
   "source": [
    "## Question 2: \n",
    "Modify the output to print the origin times with obspy's UTCDateTime.  i.e. convert the times to a human readable form. Also produce the output in time order from earliest to latest."
   ]
  },
  {
   "cell_type": "code",
   "execution_count": null,
   "id": "c12ab269-583d-45d4-b91f-722707c60a7e",
   "metadata": {},
   "outputs": [],
   "source": []
  },
  {
   "cell_type": "markdown",
   "id": "4ca9331d-4d2a-4603-acae-9ca3e4eafeaf",
   "metadata": {},
   "source": [
    "## Question 3\n",
    "Alter your previous python code to only include sources with an origin time between Jan. 1, 2011 and the end of March (Mar. 31, 2011).   (Hint:   MsPASS stores time as a unix epoch time which can be obtained from a UTCDateTime object with the \"timestamp\" method.)"
   ]
  },
  {
   "cell_type": "code",
   "execution_count": null,
   "id": "c8a96fe7-fba3-4956-ad87-8bb59603ebc7",
   "metadata": {},
   "outputs": [],
   "source": []
  }
 ],
 "metadata": {
  "kernelspec": {
   "display_name": "Python 3 (ipykernel)",
   "language": "python",
   "name": "python3"
  },
  "language_info": {
   "codemirror_mode": {
    "name": "ipython",
    "version": 3
   },
   "file_extension": ".py",
   "mimetype": "text/x-python",
   "name": "python",
   "nbconvert_exporter": "python",
   "pygments_lexer": "ipython3",
   "version": "3.10.14"
  }
 },
 "nbformat": 4,
 "nbformat_minor": 5
}
