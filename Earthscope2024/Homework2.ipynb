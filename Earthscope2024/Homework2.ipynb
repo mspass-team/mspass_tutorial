{
 "cells": [
  {
   "cell_type": "markdown",
   "id": "6d72ab58-ef93-4391-ab1b-6e5227a4409a",
   "metadata": {},
   "source": [
    "# Session 2 Workbook\n",
    "## Part 1:  In class work for session 2"
   ]
  },
  {
   "cell_type": "markdown",
   "id": "5704f13a-f71b-48f7-b53d-0720fbfb066d",
   "metadata": {},
   "source": [
    "*Information*.  Enter your name an institution here so we can identify your submission:\n"
   ]
  },
  {
   "cell_type": "markdown",
   "id": "204a05f2-16ec-40e8-bcf9-78902844c8e3",
   "metadata": {},
   "source": []
  },
  {
   "cell_type": "markdown",
   "id": "376e3a7d-6cb6-4e79-8bf9-043271f49269",
   "metadata": {},
   "source": [
    "Run this standard box to create an instance of MsPASS client and then instantiates and a MsPASS database handle.   In jargon discussed today db will hold an instance of the MongoDB client used to interact with the MongoDB server running GeoLAB.  "
   ]
  },
  {
   "cell_type": "code",
   "execution_count": 1,
   "id": "7954d155-8c0b-4bb7-b43b-5ef2fdf303bc",
   "metadata": {},
   "outputs": [],
   "source": [
    "from mspasspy.db.database import Database\n",
    "import mspasspy.client as msc\n",
    "mspass_client=msc.Client(database_name='Earthscope2024')\n",
    "db = mspass_client.get_database()"
   ]
  },
  {
   "cell_type": "markdown",
   "id": "f60acb26-fa24-4996-8118-e7a656fc4e9f",
   "metadata": {},
   "source": [
    "### In class session 1 questions\n",
    "\n",
    "*Question1*.   In this session and the user manual we talk a lot about \"atomic\" data and \"ensemble\" data.  In the following code box state which symbols hold ensemble objects and which hold atomic data.  Note if is more than fair to add print statements with the \"type\" function to tell you the answer.   With experience you can know this without doing that but using a print statement is totally acceptable as an answer IF you still explain which are atomic and which are ensembles."
   ]
  },
  {
   "cell_type": "code",
   "execution_count": 2,
   "id": "55bd27eb-4af2-4227-81a9-a77c0322bec7",
   "metadata": {},
   "outputs": [],
   "source": [
    "query={'sta' : '034A'}\n",
    "doc=db.wf_TimeSeries.find_one(query)\n",
    "x=db.read_data(doc,collection='wf_TimeSeries')\n",
    "cursor=db.wf_TimeSeries.find(query)\n",
    "y=db.read_data(cursor,collection='wf_TimeSeries')\n",
    "z=y.member[0]"
   ]
  },
  {
   "cell_type": "raw",
   "id": "23e255ee-6e2d-44df-8f3b-94ad78f17ce0",
   "metadata": {},
   "source": [
    "Answer: complete each as either \"atomic datum\" or \"ensemble\"\n",
    "\n",
    "x is an\n",
    "\n",
    "y is an\n",
    "\n",
    "z is an\n",
    "\n"
   ]
  },
  {
   "cell_type": "code",
   "execution_count": null,
   "id": "f3b4df46-ab2d-4e68-a176-6d4aaf89b4bf",
   "metadata": {},
   "outputs": [],
   "source": [
    "*Question 2*.   Run the code block below and "
   ]
  },
  {
   "cell_type": "markdown",
   "id": "0db894aa-fe00-4e84-8548-d13ed2350a26",
   "metadata": {},
   "source": [
    "Run the following code block and review [this document](http://www.mspass.org/user_manual/data_object_design_concepts.html) in the User Manual.  Then answer the questions in the box following  (THIS IS BETTER AS HOMEORK)"
   ]
  },
  {
   "cell_type": "code",
   "execution_count": 8,
   "id": "d6d2475d-8965-40ed-8a1a-693434a9826b",
   "metadata": {},
   "outputs": [
    {
     "data": {
      "text/plain": [
       "['Metadata_keyIterator',\n",
       " '__add__',\n",
       " '__class__',\n",
       " '__contains__',\n",
       " '__delattr__',\n",
       " '__delitem__',\n",
       " '__dir__',\n",
       " '__doc__',\n",
       " '__eq__',\n",
       " '__format__',\n",
       " '__ge__',\n",
       " '__getattribute__',\n",
       " '__getitem__',\n",
       " '__getstate__',\n",
       " '__gt__',\n",
       " '__hash__',\n",
       " '__iadd__',\n",
       " '__imul__',\n",
       " '__init__',\n",
       " '__init_subclass__',\n",
       " '__isub__',\n",
       " '__iter__',\n",
       " '__le__',\n",
       " '__len__',\n",
       " '__lt__',\n",
       " '__module__',\n",
       " '__ne__',\n",
       " '__new__',\n",
       " '__reduce__',\n",
       " '__reduce_ex__',\n",
       " '__repr__',\n",
       " '__reversed__',\n",
       " '__setattr__',\n",
       " '__setitem__',\n",
       " '__setstate__',\n",
       " '__sizeof__',\n",
       " '__str__',\n",
       " '__sub__',\n",
       " '__subclasshook__',\n",
       " '_merge',\n",
       " 'accumulate',\n",
       " 'add_many_inputs',\n",
       " 'add_one_input',\n",
       " 'append_chain',\n",
       " 'ator',\n",
       " 'cardinal',\n",
       " 'change_key',\n",
       " 'clear_history',\n",
       " 'clear_modified',\n",
       " 'created_by',\n",
       " 'current_nodedata',\n",
       " 'data',\n",
       " 'dead',\n",
       " 'dt',\n",
       " 'elog',\n",
       " 'endtime',\n",
       " 'erase',\n",
       " 'force_t0_shift',\n",
       " 'free_surface_transformation',\n",
       " 'get',\n",
       " 'get_bool',\n",
       " 'get_double',\n",
       " 'get_long',\n",
       " 'get_nodes',\n",
       " 'get_string',\n",
       " 'id',\n",
       " 'inputs',\n",
       " 'is_defined',\n",
       " 'is_empty',\n",
       " 'is_origin',\n",
       " 'is_raw',\n",
       " 'is_saved',\n",
       " 'is_volatile',\n",
       " 'jobid',\n",
       " 'jobname',\n",
       " 'keys',\n",
       " 'kill',\n",
       " 'live',\n",
       " 'load_history',\n",
       " 'map_as_saved',\n",
       " 'modified',\n",
       " 'new_ensemble_process',\n",
       " 'new_map',\n",
       " 'newid',\n",
       " 'npts',\n",
       " 'number_inputs',\n",
       " 'number_of_stages',\n",
       " 'orthogonal',\n",
       " 'put',\n",
       " 'put_bool',\n",
       " 'put_double',\n",
       " 'put_long',\n",
       " 'put_string',\n",
       " 'rotate',\n",
       " 'rotate_to_standard',\n",
       " 'rtoa',\n",
       " 'sample_number',\n",
       " 'samprate',\n",
       " 'set_as_origin',\n",
       " 'set_as_raw',\n",
       " 'set_dt',\n",
       " 'set_id',\n",
       " 'set_jobid',\n",
       " 'set_jobname',\n",
       " 'set_live',\n",
       " 'set_npts',\n",
       " 'set_t0',\n",
       " 'shift',\n",
       " 'shifted',\n",
       " 'stage',\n",
       " 'starttime',\n",
       " 'sync_npts',\n",
       " 't0',\n",
       " 'time',\n",
       " 'time_is_UTC',\n",
       " 'time_is_relative',\n",
       " 'time_reference',\n",
       " 'tmatrix',\n",
       " 'transform',\n",
       " 'tref',\n",
       " 'type']"
      ]
     },
     "execution_count": 8,
     "metadata": {},
     "output_type": "execute_result"
    }
   ],
   "source": [
    "from mspasspy.ccore.seismic import Seismogram\n",
    "x=Seismogram()\n",
    "dir(x)"
   ]
  },
  {
   "cell_type": "code",
   "execution_count": 9,
   "id": "32b365b6-4d74-4f8a-b956-8dd1a495bf43",
   "metadata": {},
   "outputs": [
    {
     "name": "stdout",
     "output_type": "stream",
     "text": [
      "<class 'mspasspy.ccore.utility.ErrorLogger'> <class 'mspasspy.ccore.utility.dmatrix'>\n",
      "<class 'method'>\n"
     ]
    }
   ],
   "source": [
    "print(type(x.elog),type(x.data))\n",
    "print(type(x.put))"
   ]
  },
  {
   "cell_type": "markdown",
   "id": "fe48930b-fef2-438d-b99c-e2acc610afc8",
   "metadata": {},
   "source": [
    "*Question 2*.  Enter your answer in this markdown box after each question posed.\n",
    "\n",
    "Note from the output of the code box above how a Seismogram object contains four different containers:  a) the sample data, b) a \"Metadata\" container that is similar but not identical to a python dictionary, c) an ErrorLogger object, and d) a ProcessingHistory object. \n",
    "\n",
    "1.  What symbol is used for the instance of a Seismogram, x in the code above, to hold the sample data?\n",
    "2.   What symbol is used to hold the \"error log\"?\n",
    "3.  `Metadata` and `ProcessingHistory` are assimilated into the a Seismogram by what is called \"inheritance\".  We can't expect all to have a deep understanding of this concept, but consider that we designed Seismogram that way to allow the perspective that a Seismogram object \"is a\" Metadata object.  That allows us to make statements like:\n",
    "\n",
    "  if x.is_defined('sta'):\n",
    "  \n",
    "to test for existence of Metadata with the key \"sta\".   If you look at the output of \"dir(x)\" above you should see that \"is_defined\" is indeed listed as a \"member\" of x.   \n",
    "\n",
    "List two more methods of x that are \"inherited\" from Metadata:\n"
   ]
  },
  {
   "cell_type": "markdown",
   "id": "4a3a3a1c-5a05-4da6-8cf7-f60f7ae50e8a",
   "metadata": {},
   "source": [
    "## Part 2:   Complete and submit before session 3"
   ]
  },
  {
   "cell_type": "markdown",
   "id": "037140d7-13ca-4ff8-84f5-1b19d5127d00",
   "metadata": {},
   "source": [
    "*Question 4*.  Read through text in the entire Session2.ipynb notebook.   Answer the following even if the answer is no to get credit for this question.\n",
    "\n",
    "a.  Did you read the entire notebook?\n",
    "\n",
    "b.  Do you have any questions?\n",
    "\n",
    "c.  Do you have any constructive criticism of content that we can use to improve the class?"
   ]
  },
  {
   "cell_type": "markdown",
   "id": "21620885-57e3-4048-af55-4681fe925ca3",
   "metadata": {},
   "source": [
    "## Question 1:\n",
    "Print a projection of the entire content of the source collection in tabular form using pandas.   The table should include only the following attributes: lat, lon, depth, time, magnitude.   (Note it is wrong if the table has the \"_id\" field included.)   "
   ]
  },
  {
   "cell_type": "code",
   "execution_count": null,
   "id": "b5770803-1b7a-4d97-9183-3d19e7b8ad97",
   "metadata": {},
   "outputs": [],
   "source": []
  },
  {
   "cell_type": "markdown",
   "id": "077873a8-978c-46a8-8504-fe8737ce2620",
   "metadata": {},
   "source": [
    "## Question 2: \n",
    "Modify the output to print the origin times with obspy's UTCDateTime.  i.e. convert the times to a human readable form. Also produce the output in time order from earliest to latest."
   ]
  },
  {
   "cell_type": "code",
   "execution_count": null,
   "id": "c12ab269-583d-45d4-b91f-722707c60a7e",
   "metadata": {},
   "outputs": [],
   "source": []
  },
  {
   "cell_type": "markdown",
   "id": "4ca9331d-4d2a-4603-acae-9ca3e4eafeaf",
   "metadata": {},
   "source": [
    "## Question 3\n",
    "Alter your previous python code to only include sources with an origin time between Jan. 1, 2011 and the end of March (Mar. 31, 2011).   (Hint:   MsPASS stores time as a unix epoch time which can be obtained from a UTCDateTime object with the \"timestamp\" method.)"
   ]
  },
  {
   "cell_type": "code",
   "execution_count": null,
   "id": "c8a96fe7-fba3-4956-ad87-8bb59603ebc7",
   "metadata": {},
   "outputs": [],
   "source": []
  }
 ],
 "metadata": {
  "kernelspec": {
   "display_name": "Python 3 (ipykernel)",
   "language": "python",
   "name": "python3"
  },
  "language_info": {
   "codemirror_mode": {
    "name": "ipython",
    "version": 3
   },
   "file_extension": ".py",
   "mimetype": "text/x-python",
   "name": "python",
   "nbconvert_exporter": "python",
   "pygments_lexer": "ipython3",
   "version": "3.10.14"
  }
 },
 "nbformat": 4,
 "nbformat_minor": 5
}
