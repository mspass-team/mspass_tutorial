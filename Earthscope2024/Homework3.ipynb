{
 "cells": [
  {
   "cell_type": "markdown",
   "id": "50c9c313-a3a5-4d9c-aa23-9a5ac662b868",
   "metadata": {},
   "source": [
    "# Session 3 Workbook \n",
    "\n",
    "## Part 1:   To Complete During Session 3"
   ]
  },
  {
   "cell_type": "markdown",
   "id": "af9270cd-b407-4b30-af8c-696aa4f6d7bc",
   "metadata": {},
   "source": [
    "## In Class Exercise 1:\n",
    "Paste the output of the question posed in the workbook in the markdown box below.    "
   ]
  },
  {
   "cell_type": "markdown",
   "id": "3524b750-a86f-4dbb-b9c0-087ed86b959f",
   "metadata": {},
   "source": []
  },
  {
   "cell_type": "markdown",
   "id": "ded019af-8315-4161-b21b-6d23b729ed70",
   "metadata": {},
   "source": [
    "## In Class Exercise 2\n",
    "\n",
    "1.  Create a MongoDB script to count the number of documents we would process if we ran the script above on this enter data set.  Compute the predicted time it would take to run the job as a serial loop.  Then compute the theoretical minimum time for the 4 worker cluster we are using for this class.   We will compare that to what we actually get below.\n",
    "2.  Estimate how long it would take, in days, to do a serial computation with 10,000,000 seismograms - an entirely realistic data set today. "
   ]
  },
  {
   "cell_type": "markdown",
   "id": "2727d014-7156-45b9-b8e2-ff6f304705cc",
   "metadata": {},
   "source": [
    "## Homework\n",
    "Since this assignment is to be completed after the last class period, the due date is one week from the time of the last session.   "
   ]
  },
  {
   "cell_type": "markdown",
   "id": "24564f12-548d-4b0a-9531-419f3895b167",
   "metadata": {},
   "source": [
    "### Question 3 \n",
    "Read through text in the entire Session1.ipynb notebook INCLUDING all links to sections of the MsPASS User's Manual.  For links to docstrings \"read\" means a internet \"read\" which is what we used to call skimming. Answer the following even if the answer is no to get credit for this question. \n",
    "\n",
    "a.  Did you read the entire notebook?\n",
    "\n",
    "b.  Do you have any questions?\n",
    "\n",
    "c.  Do you have any constructive criticism of content that we can use to improve the class?"
   ]
  },
  {
   "cell_type": "markdown",
   "id": "0657e8b8-5716-4143-8113-496f7b28ab58",
   "metadata": {},
   "source": []
  },
  {
   "cell_type": "markdown",
   "id": "38206d7f-45d9-4b88-821e-d9be9363b396",
   "metadata": {},
   "source": [
    "### Question 4\n",
    "Run the two parallel variants in Session3.   Monitor the profiler graphic during the runs as suggested in the notebook to answer the following:\n",
    "a.   Record the timing data for your three runs.\n",
    "b.   From the profiler what are the limiting most time consuming steps of the two alternative workflows?   Can you confirm or deny the hypothesis we made in the Session3 notebook of why the parallel I/O version is significantly slower?  "
   ]
  },
  {
   "cell_type": "markdown",
   "id": "5b6dca84-d702-41cf-86f6-6d4f0e8f8aba",
   "metadata": {},
   "source": []
  },
  {
   "cell_type": "markdown",
   "id": "aa3e3655-bae7-4f36-9334-44782cb714d5",
   "metadata": {},
   "source": [
    "### Question 5\n",
    "Rewrite the serial, preprocessing loop from the Session1.ipynb notebook to run in parallel.  That is, the box that runs detrend, filter, and window to create wf_TimeSeries data with \"data_tag\"==\"serial_preprocessed\".   Make sure you change the value of the `data_tag` argument for saving the data.   Note also you will need to do some cut-and-paste operations to utilize functions found in the Session1.ipynb notebook and to do the right imports.  "
   ]
  },
  {
   "cell_type": "code",
   "execution_count": null,
   "id": "7c1ce40c-68d8-4ba4-9e92-00838fa61bb4",
   "metadata": {},
   "outputs": [],
   "source": []
  }
 ],
 "metadata": {
  "kernelspec": {
   "display_name": "Python 3 (ipykernel)",
   "language": "python",
   "name": "python3"
  },
  "language_info": {
   "codemirror_mode": {
    "name": "ipython",
    "version": 3
   },
   "file_extension": ".py",
   "mimetype": "text/x-python",
   "name": "python",
   "nbconvert_exporter": "python",
   "pygments_lexer": "ipython3",
   "version": "3.11.5"
  }
 },
 "nbformat": 4,
 "nbformat_minor": 5
}
