{
 "cells": [
  {
   "cell_type": "markdown",
   "id": "80378fb0-e958-4383-a841-5a3ca5c71bf5",
   "metadata": {},
   "source": [
    "# Data Retrieval \n",
    "This notebook describes the process that can be used to retrieve the data independently for the Earthscope short course on MsPASS held in July 2024.  The procedures here are useful for retrieving small data sets via web services with MsPASS, but are expected to become archaic when the new Earthscope cloud system is fully functional.  \n",
    "\n",
    "## Retrieval with MsPASS\n",
    "If you are running MsPASS in the normal with the docker container or using the anaconda package the following script can be used.  It uses ObsPy's web service client to retrieve a set of QuakeML format data from IRIS and packages them into what they call a \"Catalog\" object.  We then use a method of the MsPASS Database class to save that data to MongoDB. Finally, we retrieve that data sorted to time order and write load the result into a pandas DataFrame we assign the symbol \"df\".  "
   ]
  },
  {
   "cell_type": "code",
   "execution_count": null,
   "id": "85293616-183a-4533-92cc-6d2b3347804c",
   "metadata": {
    "tags": []
   },
   "outputs": [],
   "source": [
    "from obspy import UTCDateTime\n",
    "from obspy.clients.fdsn import Client\n",
    "client=Client(\"IRIS\")\n",
    "ts=UTCDateTime('2011-01-01T00:00:00.0')\n",
    "starttime=ts\n",
    "te=UTCDateTime('2012-01-01T00:00:00.0')\n",
    "endtime=te\n",
    "lat0=38.3\n",
    "lon0=142.5\n",
    "minmag=7.0\n",
    "\n",
    "cat=client.get_events(starttime=starttime,endtime=endtime,\n",
    "        minmagnitude=minmag)\n",
    "# this is a weird incantation suggested by obspy to print a summeary of all the events\n",
    "print(cat.__str__(print_all=True))"
   ]
  },
  {
   "cell_type": "code",
   "execution_count": null,
   "id": "cd86d776-d062-463d-8bb3-0ce8e3aef800",
   "metadata": {
    "tags": []
   },
   "outputs": [],
   "source": [
    "from mspasspy.db.database import Database   # This isn't strictly needed but used here because db set below is an instance of this class\n",
    "import mspasspy.client as msc\n",
    "dbclient=msc.Client()\n",
    "db = dbclient.get_database('scoped2024')\n",
    "n=db.save_catalog(cat)\n",
    "print('number of event entries saved in source collection=',n)"
   ]
  },
  {
   "cell_type": "code",
   "execution_count": null,
   "id": "84a594fc-9cb9-4bd9-91af-de309f7f6a83",
   "metadata": {},
   "outputs": [],
   "source": [
    "import pandas as pd\n",
    "# We need only these basics to compare to previous output as a cross check\n",
    "projection={\n",
    "    \"time\":1,\n",
    "    \"lat\":1,\n",
    "    \"lon\":1,\n",
    "    \"depth\":1,\n",
    "    \"magnitude\":1,\n",
    "}\n",
    "cursor=db.source.find({},projection).sort(\"time\")\n",
    "doclist=[]\n",
    "for doc in cursor:\n",
    "    doclist.append(doc)\n",
    "df = pd.DataFrame(doclist)\n",
    "print(df)"
   ]
  },
  {
   "cell_type": "code",
   "execution_count": null,
   "id": "1eb59023-d526-4473-b161-ea05db436fb2",
   "metadata": {},
   "outputs": [],
   "source": [
    "csvfilename=\"workshop_sources.csv\"\n",
    "df.to_csv(csvfilename)"
   ]
  },
  {
   "cell_type": "markdown",
   "id": "e2dc58e6-0963-4d5f-8d5f-f3b41a24e52b",
   "metadata": {},
   "source": [
    "## Read CSV file to create/recreate DataFrame\n",
    "Alternatively if you are running this without an instance of MongoDB available and were supplied a copy of the csv file created immediately above, you can just load that data file to create the dataframe with the next box.  If you run this notebook from start to finish this next box is redundant, but it makes this notebook stateless."
   ]
  },
  {
   "cell_type": "code",
   "execution_count": null,
   "id": "ca60be00-ef1c-4970-8e47-3f6dd830582a",
   "metadata": {},
   "outputs": [],
   "source": [
    "# these two lines are repeated to allow start here instead of at the top\n",
    "import pandas as pd\n",
    "csvfilename=\"workshop_sources.csv\"\n",
    "df = pd.read_csv(csvfilename)\n",
    "print(df)"
   ]
  },
  {
   "cell_type": "markdown",
   "id": "378fa087-ae1f-4547-99ab-d41f3084acca",
   "metadata": {},
   "source": [
    "## Waveform Retrieval\n",
    "Finally, we retrieve the waveform data with obspy's get_waveforms gizmo and save the results as a set of miniseed files in a directory we create with the name \"./wf\".  \n",
    "\n",
    "Note when I ran this with a fairly standard \"high speed internet\" connection it took just under 2 hours.   "
   ]
  },
  {
   "cell_type": "code",
   "execution_count": null,
   "id": "40ca5437-918a-4f15-a134-6f35ae3fd979",
   "metadata": {},
   "outputs": [],
   "source": [
    "import os\n",
    "import time\n",
    "from obspy.clients.fdsn import RoutingClient\n",
    "client = RoutingClient(\"iris-federator\")\n",
    "\n",
    "t0=time.time()\n",
    "outdir = \"./wf\"\n",
    "# obpsy's writer does not create a directory if it doesn't exist\n",
    "# this standard incantation does that\n",
    "wfdir_exists = os.path.exists(outdir)\n",
    "if not wfdir_exists:\n",
    "    os.makedirs(outdir)\n",
    "    print(\"Output directory = \",outdir,\" did not exists and was created\")\n",
    "start_offset=300.0\n",
    "end_offset=45*60.0\n",
    "i=0\n",
    "for origin_time in df[\"time\"]: \n",
    "    print('Starting to retrieve data for event number',i,' with origin time=',UTCDateTime(origin_time))\n",
    "    stime=origin_time+start_offset\n",
    "    etime=origin_time+end_offset\n",
    "    strm=client.get_waveforms(\n",
    "            starttime=UTCDateTime(stime),\n",
    "            endtime=UTCDateTime(etime),\n",
    "            network='TA',\n",
    "            channel='BH?',\n",
    "            location='*'\n",
    "        )\n",
    "    fname = outdir + \"/Event_{}.msd\".format(i)\n",
    "    print('writing miniseed format data to file=',fname)\n",
    "    strm.write(fname,format='MSEED')\n",
    "    i += 1\n",
    "\n",
    "print('Number of waveforms saved=',i)\n",
    "t = time.time()\n",
    "print('Time required for download=',t-t0)"
   ]
  },
  {
   "cell_type": "code",
   "execution_count": null,
   "id": "2663c362-8b1a-4a88-903f-bed97e55e6a4",
   "metadata": {},
   "outputs": [],
   "source": []
  }
 ],
 "metadata": {
  "kernelspec": {
   "display_name": "Python 3 (ipykernel)",
   "language": "python",
   "name": "python3"
  },
  "language_info": {
   "codemirror_mode": {
    "name": "ipython",
    "version": 3
   },
   "file_extension": ".py",
   "mimetype": "text/x-python",
   "name": "python",
   "nbconvert_exporter": "python",
   "pygments_lexer": "ipython3",
   "version": "3.10.14"
  }
 },
 "nbformat": 4,
 "nbformat_minor": 5
}
