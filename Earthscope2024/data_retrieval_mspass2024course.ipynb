{
 "cells": [
  {
   "cell_type": "markdown",
   "id": "80378fb0-e958-4383-a841-5a3ca5c71bf5",
   "metadata": {},
   "source": [
    "# Data Retrieval \n",
    "This notebook describes the process that can be used to retrieve the data independently for the Earthscope short course on MsPASS held in July 2024.  The procedures here are useful for retrieving small data sets via web services with MsPASS, but are expected to become archaic when the new Earthscope cloud system is fully functional.  \n",
    "\n",
    "## Retrieval with MsPASS\n",
    "If you are running MsPASS in the normal with the docker container or using the anaconda package the following script can be used.  It uses ObsPy's web service client to retrieve a set of QuakeML format data from IRIS and packages them into what they call a \"Catalog\" object.  We then use a method of the MsPASS Database class to save that data to MongoDB. Finally, we retrieve that data sorted to time order and write load the result into a pandas DataFrame we assign the symbol \"df\".  "
   ]
  },
  {
   "cell_type": "code",
   "execution_count": 1,
   "id": "85293616-183a-4533-92cc-6d2b3347804c",
   "metadata": {
    "tags": []
   },
   "outputs": [
    {
     "name": "stdout",
     "output_type": "stream",
     "text": [
      "20 Event(s) in Catalog:\n",
      "2011-12-14T05:04:57.810000Z |  -7.528, +146.814 | 7.1  MW\n",
      "2011-10-28T18:54:34.750000Z | -14.557,  -76.121 | 7.0  MW\n",
      "2011-10-23T10:41:22.010000Z | +38.729,  +43.447 | 7.1  MW\n",
      "2011-10-21T17:57:17.310000Z | -28.881, -176.033 | 7.4  MW\n",
      "2011-09-15T19:31:03.160000Z | -21.593, -179.324 | 7.3  MW\n",
      "2011-09-03T22:55:35.760000Z | -20.628, +169.778 | 7.0  MW\n",
      "2011-08-24T17:46:11.560000Z |  -7.620,  -74.538 | 7.0  MW\n",
      "2011-08-20T18:19:24.610000Z | -18.331, +168.226 | 7.0  MW\n",
      "2011-08-20T16:55:04.090000Z | -18.277, +168.067 | 7.1  MW\n",
      "2011-07-10T00:57:10.910000Z | +38.055, +143.302 | 7.0  MW\n",
      "2011-07-06T19:03:20.470000Z | -29.307, -176.257 | 7.6  MW\n",
      "2011-06-24T03:09:38.920000Z | +51.980, -171.820 | 7.3  MW\n",
      "2011-04-07T14:32:44.100000Z | +38.251, +141.730 | 7.1  MW\n",
      "2011-03-11T06:25:50.740000Z | +38.051, +144.630 | 7.6  MW\n",
      "2011-03-11T06:15:37.570000Z | +36.227, +141.088 | 7.9  MW\n",
      "2011-03-11T05:46:23.200000Z | +38.296, +142.498 | 9.1  MW\n",
      "2011-03-09T02:45:19.590000Z | +38.441, +142.980 | 7.3  MW\n",
      "2011-01-18T20:23:25.570000Z | +28.683,  +63.995 | 7.2  MW\n",
      "2011-01-02T20:20:18.170000Z | -38.391,  -73.399 | 7.1  MW\n",
      "2011-01-01T09:56:58.460000Z | -26.851,  -63.237 | 7.0  MW\n"
     ]
    }
   ],
   "source": [
    "from obspy import UTCDateTime\n",
    "from obspy.clients.fdsn import Client\n",
    "client=Client(\"IRIS\")\n",
    "ts=UTCDateTime('2011-01-01T00:00:00.0')\n",
    "starttime=ts\n",
    "te=UTCDateTime('2012-01-01T00:00:00.0')\n",
    "endtime=te\n",
    "lat0=38.3\n",
    "lon0=142.5\n",
    "minmag=7.0\n",
    "\n",
    "cat=client.get_events(starttime=starttime,endtime=endtime,\n",
    "        minmagnitude=minmag)\n",
    "# this is a weird incantation suggested by obspy to print a summeary of all the events\n",
    "print(cat.__str__(print_all=True))"
   ]
  },
  {
   "cell_type": "code",
   "execution_count": 2,
   "id": "cd86d776-d062-463d-8bb3-0ce8e3aef800",
   "metadata": {
    "tags": []
   },
   "outputs": [
    {
     "name": "stdout",
     "output_type": "stream",
     "text": [
      "number of event entries saved in source collection= 20\n"
     ]
    }
   ],
   "source": [
    "from mspasspy.db.database import Database   # This isn't strictly needed but used here because db set below is an instance of this class\n",
    "import mspasspy.client as msc\n",
    "dbclient=msc.Client()\n",
    "db = dbclient.get_database('scoped2024')\n",
    "n=db.save_catalog(cat)\n",
    "print('number of event entries saved in source collection=',n)"
   ]
  },
  {
   "cell_type": "code",
   "execution_count": 3,
   "id": "84a594fc-9cb9-4bd9-91af-de309f7f6a83",
   "metadata": {},
   "outputs": [
    {
     "name": "stdout",
     "output_type": "stream",
     "text": [
      "                         _id      lat       lon  depth          time  \\\n",
      "0   6701261c1ccaaad58a479002 -26.8513  -63.2373  584.3  1.293876e+09   \n",
      "1   6701261c1ccaaad58a479001 -38.3907  -73.3993   24.4  1.294000e+09   \n",
      "2   6701261c1ccaaad58a479000  28.6831   63.9948   79.9  1.295382e+09   \n",
      "3   6701261c1ccaaad58a478fff  38.4407  142.9803   26.2  1.299639e+09   \n",
      "4   6701261c1ccaaad58a478ffe  38.2963  142.4980   19.7  1.299822e+09   \n",
      "5   6701261c1ccaaad58a478ffd  36.2274  141.0880   25.4  1.299824e+09   \n",
      "6   6701261c1ccaaad58a478ffc  38.0510  144.6297   19.8  1.299825e+09   \n",
      "7   6701261c1ccaaad58a478ffb  38.2513  141.7296   53.2  1.302187e+09   \n",
      "8   6701261c1ccaaad58a478ffa  51.9805 -171.8201   49.8  1.308885e+09   \n",
      "9   6701261c1ccaaad58a478ff9 -29.3073 -176.2572   25.4  1.309979e+09   \n",
      "10  6701261c1ccaaad58a478ff8  38.0553  143.3016   24.7  1.310259e+09   \n",
      "11  6701261c1ccaaad58a478ff7 -18.2774  168.0670   34.6  1.313859e+09   \n",
      "12  6701261c1ccaaad58a478ff6 -18.3312  168.2258   31.5  1.313864e+09   \n",
      "13  6701261c1ccaaad58a478ff5  -7.6203  -74.5380  149.3  1.314208e+09   \n",
      "14  6701261c1ccaaad58a478ff4 -20.6279  169.7780  136.6  1.315091e+09   \n",
      "15  6701261c1ccaaad58a478ff3 -21.5930 -179.3240  629.0  1.316115e+09   \n",
      "16  6701261c1ccaaad58a478ff2 -28.8809 -176.0332   34.8  1.319220e+09   \n",
      "17  6701261c1ccaaad58a478ff1  38.7294   43.4465    7.6  1.319366e+09   \n",
      "18  6701261c1ccaaad58a478ff0 -14.5572  -76.1207   29.0  1.319828e+09   \n",
      "19  6701261c1ccaaad58a478fef  -7.5278  146.8140  128.5  1.323839e+09   \n",
      "\n",
      "    magnitude  \n",
      "0         7.0  \n",
      "1         7.1  \n",
      "2         7.2  \n",
      "3         7.3  \n",
      "4         9.1  \n",
      "5         7.9  \n",
      "6         7.6  \n",
      "7         7.1  \n",
      "8         7.3  \n",
      "9         7.6  \n",
      "10        7.0  \n",
      "11        7.1  \n",
      "12        7.0  \n",
      "13        7.0  \n",
      "14        7.0  \n",
      "15        7.3  \n",
      "16        7.4  \n",
      "17        7.1  \n",
      "18        7.0  \n",
      "19        7.1  \n"
     ]
    }
   ],
   "source": [
    "import pandas as pd\n",
    "# We need only these basics to compare to previous output as a cross check\n",
    "projection={\n",
    "    \"time\":1,\n",
    "    \"lat\":1,\n",
    "    \"lon\":1,\n",
    "    \"depth\":1,\n",
    "    \"magnitude\":1,\n",
    "}\n",
    "cursor=db.source.find({},projection).sort(\"time\")\n",
    "doclist=[]\n",
    "for doc in cursor:\n",
    "    doclist.append(doc)\n",
    "df = pd.DataFrame(doclist)\n",
    "print(df)"
   ]
  },
  {
   "cell_type": "code",
   "execution_count": 4,
   "id": "1eb59023-d526-4473-b161-ea05db436fb2",
   "metadata": {},
   "outputs": [],
   "source": [
    "csvfilename=\"workshop_sources.csv\"\n",
    "df.to_csv(csvfilename)"
   ]
  },
  {
   "cell_type": "markdown",
   "id": "e2dc58e6-0963-4d5f-8d5f-f3b41a24e52b",
   "metadata": {},
   "source": [
    "## Read CSV file to create/recreate DataFrame\n",
    "Alternatively if you are running this without an instance of MongoDB available and were supplied a copy of the csv file created immediately above, you can just load that data file to create the dataframe with the next box.  If you run this notebook from start to finish this next box is redundant, but it makes this notebook stateless."
   ]
  },
  {
   "cell_type": "code",
   "execution_count": 5,
   "id": "ca60be00-ef1c-4970-8e47-3f6dd830582a",
   "metadata": {},
   "outputs": [
    {
     "name": "stdout",
     "output_type": "stream",
     "text": [
      "    Unnamed: 0                       _id      lat       lon  depth  \\\n",
      "0            0  6701261c1ccaaad58a479002 -26.8513  -63.2373  584.3   \n",
      "1            1  6701261c1ccaaad58a479001 -38.3907  -73.3993   24.4   \n",
      "2            2  6701261c1ccaaad58a479000  28.6831   63.9948   79.9   \n",
      "3            3  6701261c1ccaaad58a478fff  38.4407  142.9803   26.2   \n",
      "4            4  6701261c1ccaaad58a478ffe  38.2963  142.4980   19.7   \n",
      "5            5  6701261c1ccaaad58a478ffd  36.2274  141.0880   25.4   \n",
      "6            6  6701261c1ccaaad58a478ffc  38.0510  144.6297   19.8   \n",
      "7            7  6701261c1ccaaad58a478ffb  38.2513  141.7296   53.2   \n",
      "8            8  6701261c1ccaaad58a478ffa  51.9805 -171.8201   49.8   \n",
      "9            9  6701261c1ccaaad58a478ff9 -29.3073 -176.2572   25.4   \n",
      "10          10  6701261c1ccaaad58a478ff8  38.0553  143.3016   24.7   \n",
      "11          11  6701261c1ccaaad58a478ff7 -18.2774  168.0670   34.6   \n",
      "12          12  6701261c1ccaaad58a478ff6 -18.3312  168.2258   31.5   \n",
      "13          13  6701261c1ccaaad58a478ff5  -7.6203  -74.5380  149.3   \n",
      "14          14  6701261c1ccaaad58a478ff4 -20.6279  169.7780  136.6   \n",
      "15          15  6701261c1ccaaad58a478ff3 -21.5930 -179.3240  629.0   \n",
      "16          16  6701261c1ccaaad58a478ff2 -28.8809 -176.0332   34.8   \n",
      "17          17  6701261c1ccaaad58a478ff1  38.7294   43.4465    7.6   \n",
      "18          18  6701261c1ccaaad58a478ff0 -14.5572  -76.1207   29.0   \n",
      "19          19  6701261c1ccaaad58a478fef  -7.5278  146.8140  128.5   \n",
      "\n",
      "            time  magnitude  \n",
      "0   1.293876e+09        7.0  \n",
      "1   1.294000e+09        7.1  \n",
      "2   1.295382e+09        7.2  \n",
      "3   1.299639e+09        7.3  \n",
      "4   1.299822e+09        9.1  \n",
      "5   1.299824e+09        7.9  \n",
      "6   1.299825e+09        7.6  \n",
      "7   1.302187e+09        7.1  \n",
      "8   1.308885e+09        7.3  \n",
      "9   1.309979e+09        7.6  \n",
      "10  1.310259e+09        7.0  \n",
      "11  1.313859e+09        7.1  \n",
      "12  1.313864e+09        7.0  \n",
      "13  1.314208e+09        7.0  \n",
      "14  1.315091e+09        7.0  \n",
      "15  1.316115e+09        7.3  \n",
      "16  1.319220e+09        7.4  \n",
      "17  1.319366e+09        7.1  \n",
      "18  1.319828e+09        7.0  \n",
      "19  1.323839e+09        7.1  \n"
     ]
    }
   ],
   "source": [
    "# these two lines are repeated to allow start here instead of at the top\n",
    "import pandas as pd\n",
    "csvfilename=\"workshop_sources.csv\"\n",
    "df = pd.read_csv(csvfilename)\n",
    "print(df)"
   ]
  },
  {
   "cell_type": "markdown",
   "id": "378fa087-ae1f-4547-99ab-d41f3084acca",
   "metadata": {},
   "source": [
    "## Waveform Retrieval\n",
    "Finally, we retrieve the waveform data with obspy's get_waveforms gizmo and save the results as a set of miniseed files in a directory we create with the name \"./wf\".  \n",
    "\n",
    "Note when I ran this with a fairly standard \"high speed internet\" connection it took just under 2 hours.   "
   ]
  },
  {
   "cell_type": "code",
   "execution_count": 6,
   "id": "40ca5437-918a-4f15-a134-6f35ae3fd979",
   "metadata": {},
   "outputs": [
    {
     "name": "stdout",
     "output_type": "stream",
     "text": [
      "Output directory =  ./wf  did not exists and was created\n",
      "Starting to retrieve data for event number 0  with origin time= 2011-01-01T09:56:58.460000Z\n",
      "writing miniseed format data to file= ./wf/Event_0.msd\n"
     ]
    },
    {
     "name": "stderr",
     "output_type": "stream",
     "text": [
      "/opt/conda/lib/python3.10/site-packages/obspy/io/mseed/core.py:826: UserWarning: File will be written with more than one different record lengths.\n",
      "This might have a negative influence on the compatibility with other programs.\n",
      "  warnings.warn(msg % 'record lengths')\n"
     ]
    },
    {
     "name": "stdout",
     "output_type": "stream",
     "text": [
      "Starting to retrieve data for event number 1  with origin time= 2011-01-02T20:20:18.170000Z\n",
      "writing miniseed format data to file= ./wf/Event_1.msd\n",
      "Starting to retrieve data for event number 2  with origin time= 2011-01-18T20:23:25.570000Z\n",
      "writing miniseed format data to file= ./wf/Event_2.msd\n",
      "Starting to retrieve data for event number 3  with origin time= 2011-03-09T02:45:19.590000Z\n",
      "writing miniseed format data to file= ./wf/Event_3.msd\n",
      "Starting to retrieve data for event number 4  with origin time= 2011-03-11T05:46:23.200000Z\n",
      "writing miniseed format data to file= ./wf/Event_4.msd\n",
      "Starting to retrieve data for event number 5  with origin time= 2011-03-11T06:15:37.570000Z\n",
      "writing miniseed format data to file= ./wf/Event_5.msd\n",
      "Starting to retrieve data for event number 6  with origin time= 2011-03-11T06:25:50.740000Z\n",
      "writing miniseed format data to file= ./wf/Event_6.msd\n",
      "Starting to retrieve data for event number 7  with origin time= 2011-04-07T14:32:44.100000Z\n",
      "writing miniseed format data to file= ./wf/Event_7.msd\n",
      "Starting to retrieve data for event number 8  with origin time= 2011-06-24T03:09:38.920000Z\n",
      "writing miniseed format data to file= ./wf/Event_8.msd\n",
      "Starting to retrieve data for event number 9  with origin time= 2011-07-06T19:03:20.470000Z\n",
      "writing miniseed format data to file= ./wf/Event_9.msd\n",
      "Starting to retrieve data for event number 10  with origin time= 2011-07-10T00:57:10.910000Z\n",
      "writing miniseed format data to file= ./wf/Event_10.msd\n",
      "Starting to retrieve data for event number 11  with origin time= 2011-08-20T16:55:04.090000Z\n",
      "writing miniseed format data to file= ./wf/Event_11.msd\n",
      "Starting to retrieve data for event number 12  with origin time= 2011-08-20T18:19:24.610000Z\n",
      "writing miniseed format data to file= ./wf/Event_12.msd\n",
      "Starting to retrieve data for event number 13  with origin time= 2011-08-24T17:46:11.560000Z\n",
      "writing miniseed format data to file= ./wf/Event_13.msd\n",
      "Starting to retrieve data for event number 14  with origin time= 2011-09-03T22:55:35.760000Z\n",
      "writing miniseed format data to file= ./wf/Event_14.msd\n",
      "Starting to retrieve data for event number 15  with origin time= 2011-09-15T19:31:03.160000Z\n",
      "writing miniseed format data to file= ./wf/Event_15.msd\n",
      "Starting to retrieve data for event number 16  with origin time= 2011-10-21T17:57:17.310000Z\n",
      "writing miniseed format data to file= ./wf/Event_16.msd\n",
      "Starting to retrieve data for event number 17  with origin time= 2011-10-23T10:41:22.010000Z\n",
      "writing miniseed format data to file= ./wf/Event_17.msd\n",
      "Starting to retrieve data for event number 18  with origin time= 2011-10-28T18:54:34.750000Z\n",
      "writing miniseed format data to file= ./wf/Event_18.msd\n",
      "Starting to retrieve data for event number 19  with origin time= 2011-12-14T05:04:57.810000Z\n",
      "writing miniseed format data to file= ./wf/Event_19.msd\n",
      "Number of waveforms saved= 20\n",
      "Time required for download= 2055.4315445423126\n"
     ]
    }
   ],
   "source": [
    "import os\n",
    "import time\n",
    "from obspy.clients.fdsn import RoutingClient\n",
    "client = RoutingClient(\"iris-federator\")\n",
    "\n",
    "t0=time.time()\n",
    "outdir = \"./wf\"\n",
    "# obpsy's writer does not create a directory if it doesn't exist\n",
    "# this standard incantation does that\n",
    "wfdir_exists = os.path.exists(outdir)\n",
    "if not wfdir_exists:\n",
    "    os.makedirs(outdir)\n",
    "    print(\"Output directory = \",outdir,\" did not exists and was created\")\n",
    "start_offset=300.0\n",
    "end_offset=45*60.0\n",
    "i=0\n",
    "for origin_time in df[\"time\"]: \n",
    "    print('Starting to retrieve data for event number',i,' with origin time=',UTCDateTime(origin_time))\n",
    "    stime=origin_time+start_offset\n",
    "    etime=origin_time+end_offset\n",
    "    strm=client.get_waveforms(\n",
    "            starttime=UTCDateTime(stime),\n",
    "            endtime=UTCDateTime(etime),\n",
    "            network='TA',\n",
    "            channel='BH?',\n",
    "            location='*'\n",
    "        )\n",
    "    fname = outdir + \"/Event_{}.msd\".format(i)\n",
    "    print('writing miniseed format data to file=',fname)\n",
    "    strm.write(fname,format='MSEED')\n",
    "    i += 1\n",
    "\n",
    "print('Number of waveforms saved=',i)\n",
    "t = time.time()\n",
    "print('Time required for download=',t-t0)"
   ]
  },
  {
   "cell_type": "code",
   "execution_count": null,
   "id": "2663c362-8b1a-4a88-903f-bed97e55e6a4",
   "metadata": {},
   "outputs": [],
   "source": []
  }
 ],
 "metadata": {
  "kernelspec": {
   "display_name": "Python 3 (ipykernel)",
   "language": "python",
   "name": "python3"
  },
  "language_info": {
   "codemirror_mode": {
    "name": "ipython",
    "version": 3
   },
   "file_extension": ".py",
   "mimetype": "text/x-python",
   "name": "python",
   "nbconvert_exporter": "python",
   "pygments_lexer": "ipython3",
   "version": "3.10.14"
  }
 },
 "nbformat": 4,
 "nbformat_minor": 5
}
