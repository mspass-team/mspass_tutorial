{
 "cells": [
  {
   "cell_type": "markdown",
   "id": "02df8f4e-1185-4bcf-9710-4d1f0bd4be6e",
   "metadata": {},
   "source": [
    "# Session 1 Workbook \n",
    "\n",
    "## Part 1:   To Complete During Session 1 "
   ]
  },
  {
   "cell_type": "markdown",
   "id": "f2d2f844-33c5-4f8d-bbf6-1c4e0b49f660",
   "metadata": {},
   "source": [
    "*Information*.  Enter the informaion requested below so we can identfy you and better understand what you want from this course.  \n",
    "a. Enter your name and affiliation:\n",
    "\n",
    "b:  What is your research interest and how do think coming into the class that MsPASS might help your work?\n",
    "\n"
   ]
  },
  {
   "cell_type": "markdown",
   "id": "16907c36-8f87-4706-9834-667e0451bb40",
   "metadata": {},
   "source": [
    "## In class session 1\n",
    "*Question 1*.  In the code box below paste the incantation in the session 1 notebook that creates an instance of the MsPASS `Database` class, which we often call a database handle, and run that cell to demonstrate you can connect to the database server in an independent notebook."
   ]
  },
  {
   "cell_type": "code",
   "execution_count": null,
   "id": "438c1f0c-44ec-4c95-b2a1-de8c83a75032",
   "metadata": {},
   "outputs": [],
   "source": []
  },
  {
   "cell_type": "markdown",
   "id": "8837d98a-d883-45ba-99c2-e28d2cfc279b",
   "metadata": {},
   "source": [
    "*Question 2*.  Use the `find_one` method and the `pretty_print` function (note you will need to copy it here as it isn't defined globally) to examine the full contents of the first document in the \"source\" collection.  That jargon translates to this.  You only need to do a minor modification of this line from the box above:   `doc = db.wf_miniseed.find_one()`. "
   ]
  },
  {
   "cell_type": "code",
   "execution_count": null,
   "id": "b8216c34-a5ed-4a48-a6c0-87799f9188cd",
   "metadata": {},
   "outputs": [],
   "source": []
  },
  {
   "cell_type": "markdown",
   "id": "6756c920-5859-4b4e-80c0-b8757541cc55",
   "metadata": {},
   "source": [
    "## In class session 2\n",
    "*Question 3*.  Run the following code box.   In the markdown box below it answer the questions posed."
   ]
  },
  {
   "cell_type": "code",
   "execution_count": null,
   "id": "aebbbdee-10f7-4066-830a-7858a7b62fce",
   "metadata": {},
   "outputs": [],
   "source": [
    "cursor = db.wf_miniseed.find({}).limit(5)\n",
    "for doc in cursor:\n",
    "    print(doc['net'],\n",
    "          doc['sta'],\n",
    "          doc['chan'],\n",
    "          doc['channel_id'],\n",
    "          doc['source_id'])"
   ]
  },
  {
   "cell_type": "markdown",
   "id": "c8f264c3-df4f-4c3b-a6bd-5b84ceb4d791",
   "metadata": {},
   "source": [
    "a.  What is the thing the \"doc\" symbol contains and what are we doing when we use a symbol like doc['sta']?\n",
    "\n",
    "\n",
    "b.  What are the \"channel_id\" and \"source_id\" keywords and how are they used for \"normalization\"?\n",
    "\n"
   ]
  },
  {
   "cell_type": "markdown",
   "id": "956cf9ab-95b3-4541-938c-e002a85e6758",
   "metadata": {},
   "source": [
    "## Homework\n",
    "You can complete the following at your leisure.   That must ultimately be submitted to receive a certificate for the course, but much less will be expected if you submit them by the deadline before session 2.   We want to see your answers to address any questions and head of any misconceptions we might have created in session 1 at the start of session 2."
   ]
  },
  {
   "cell_type": "markdown",
   "id": "dd7ca2d9-8d29-4d6a-9982-e526d1d336e4",
   "metadata": {},
   "source": [
    "*Question 4*.  Read through text in the entire Session1.ipynb notebook.   Answer the following even if the answer is no to get credit for this question.\n",
    "\n",
    "a.  Did you read the entire notebook?\n",
    "\n",
    "b.  Do you have any questions?\n",
    "\n",
    "c.  Do you have any constructive criticism of content that we can use to improve the class?"
   ]
  },
  {
   "cell_type": "markdown",
   "id": "4129ac94-2398-4a9d-8f5b-0c024e3ab8e8",
   "metadata": {},
   "source": [
    "*Question 5*. Using the session 1 notebook as a guide read and plot the first 10 seismograms from this data set of BHE component of the Tohoku earthquake mainshock.  Note Tohoku is the 9.1 magnitude event and is the data in the miniseed file called \"Event?.msd\".  Otherwise this is mostly a cut and paste operation."
   ]
  },
  {
   "cell_type": "code",
   "execution_count": null,
   "id": "55d2da1b-7c4a-4093-847c-1092aa6fc016",
   "metadata": {},
   "outputs": [],
   "source": []
  },
  {
   "cell_type": "markdown",
   "id": "7221232d-0ac0-41a5-8394-183d337ebdef",
   "metadata": {},
   "source": [
    "*Question 6*.  Run the following code box and explain why the two queries return a different number of \"documents\" and what the two print statements of the \"type\" of data read with the queries mean.  "
   ]
  },
  {
   "cell_type": "code",
   "execution_count": null,
   "id": "58d7257b-6e89-4480-bafa-092cfcbbbc96",
   "metadata": {},
   "outputs": [],
   "source": [
    "def print_ens_type(ens,collection_name):\n",
    "    print(\"The type of the ensemble read from collection \",\n",
    "          collection_name,\" is \",type(ens))\n",
    "    print(\"All the members of this ensemble have type = \",type(ensemble.member))\n",
    "query={'dfile' : 'Event_1.msd'}\n",
    "n_ms = db.count_documents(query)\n",
    "n_ts = db.count_documents(query)\n",
    "n_seis = db.count_documents(query)\n",
    "print(\"Number of miniseed documents for event 1\",n_ms)\n",
    "print(\"Number of TimeSeries documents for event 1\",n_ts)\n",
    "print(\"Number of Seismogram documents for event 1\",n_seis)\n",
    "cursor = db.wf_miniseed.find(query)\n",
    "ens_ms = db.read_data(cursor,collection='wf_miniseed')\n",
    "print_ens_type(ens_ms,\"wf_miniseed\")\n",
    "cursor = db.wf_TimeSeries.find(query)\n",
    "ens_ts = db.read_data(cursor,collection='wf_TimeSeries')\n",
    "print_ens_type(ens_ts,\"wf_TimeSeries\")\n",
    "cursor = db.wf_Seismogram.find(query)\n",
    "ens_seis = db.read_data(cursor,collection='wf_Seismogram')\n",
    "print_ens_type(ens_seis,\"wf_Seismogram\")"
   ]
  },
  {
   "cell_type": "markdown",
   "id": "055023c7-cb62-4341-9c68-d61a062e7029",
   "metadata": {},
   "source": [
    "Enter your answer here:"
   ]
  }
 ],
 "metadata": {
  "kernelspec": {
   "display_name": "Python 3 (ipykernel)",
   "language": "python",
   "name": "python3"
  },
  "language_info": {
   "codemirror_mode": {
    "name": "ipython",
    "version": 3
   },
   "file_extension": ".py",
   "mimetype": "text/x-python",
   "name": "python",
   "nbconvert_exporter": "python",
   "pygments_lexer": "ipython3",
   "version": "3.9.18"
  }
 },
 "nbformat": 4,
 "nbformat_minor": 5
}
