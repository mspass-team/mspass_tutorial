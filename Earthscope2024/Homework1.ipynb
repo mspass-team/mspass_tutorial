{
 "cells": [
  {
   "cell_type": "markdown",
   "id": "02df8f4e-1185-4bcf-9710-4d1f0bd4be6e",
   "metadata": {},
   "source": [
    "# Session 1 Homework\n",
    "## Part 1:   To Complete During Session 1 Hands on"
   ]
  },
  {
   "cell_type": "markdown",
   "id": "f2d2f844-33c5-4f8d-bbf6-1c4e0b49f660",
   "metadata": {},
   "source": [
    "*Question 1*.   (To be started in introduction - expand as you wish):  \n",
    "a. Enter your name and affiliation:\n",
    "\n",
    "b:  What is your research interest and how do think coming into the class that MsPASS might help your work?\n"
   ]
  },
  {
   "cell_type": "markdown",
   "id": "16907c36-8f87-4706-9834-667e0451bb40",
   "metadata": {},
   "source": [
    "#### In class assignment 1\n",
    "*Question 2*.  In the code box below paste the incantation in the session 1 notebook that creates an instance of the MsPASS `Database` class, which we often call a database handle, and run that cell to demonstrate you can connect to the database server."
   ]
  },
  {
   "cell_type": "code",
   "execution_count": null,
   "id": "438c1f0c-44ec-4c95-b2a1-de8c83a75032",
   "metadata": {},
   "outputs": [],
   "source": []
  },
  {
   "cell_type": "markdown",
   "id": "8837d98a-d883-45ba-99c2-e28d2cfc279b",
   "metadata": {},
   "source": [
    "*Question 3*.  Use the `find_one` method and the `pretty_print` function (note you will need to copy it here as it isn't defined globally) to examine the full contents of the first document in the \"source\" collection.  That jargon translates to this.  You only need to do a minor modification of this line from the box above:   `doc = db.wf_miniseed.find_one()`. "
   ]
  },
  {
   "cell_type": "code",
   "execution_count": null,
   "id": "b8216c34-a5ed-4a48-a6c0-87799f9188cd",
   "metadata": {},
   "outputs": [],
   "source": []
  },
  {
   "cell_type": "markdown",
   "id": "6756c920-5859-4b4e-80c0-b8757541cc55",
   "metadata": {},
   "source": [
    "#### In class assignment number 2\n",
    "*Question 4*.  "
   ]
  },
  {
   "cell_type": "code",
   "execution_count": null,
   "id": "aebbbdee-10f7-4066-830a-7858a7b62fce",
   "metadata": {},
   "outputs": [],
   "source": []
  },
  {
   "cell_type": "markdown",
   "id": "4129ac94-2398-4a9d-8f5b-0c024e3ab8e8",
   "metadata": {},
   "source": [
    "2.  Using the session 1 notebook a guide read and plot the first 10 seismograms from this data set of BHE component of the Tohoku earthquake mainshock.  Note Tohoku is the 9.1 magnitude event and is the data in the miniseed file called \"Event?.msd\".  Otherwise this is mostly a cut and paste operation."
   ]
  },
  {
   "cell_type": "code",
   "execution_count": null,
   "id": "c400d0e8-925a-483a-9db8-a88f320e63bd",
   "metadata": {},
   "outputs": [],
   "source": []
  },
  {
   "cell_type": "markdown",
   "id": "7221232d-0ac0-41a5-8394-183d337ebdef",
   "metadata": {},
   "source": [
    "3.   Run the following code box and explain why the two queries return a different number of \"documents\" and what the two print statements of the \"type\" of data read with the queries mean.  "
   ]
  },
  {
   "cell_type": "code",
   "execution_count": null,
   "id": "58d7257b-6e89-4480-bafa-092cfcbbbc96",
   "metadata": {},
   "outputs": [],
   "source": [
    "def print_ens_type(ens,collection_name):\n",
    "    print(\"The type of the ensemble read from collection \",\n",
    "          collection_name,\" is \",type(ens))\n",
    "    print(\"All the members of this ensemble have type = \",type(ensemble.member))\n",
    "query={'dfile' : 'Event_1.msd'}\n",
    "n_ms = db.count_documents(query)\n",
    "n_ts = db.count_documents(query)\n",
    "n_seis = db.count_documents(query)\n",
    "print(\"Number of miniseed documents for event 1\",n_ms)\n",
    "print(\"Number of TimeSeries documents for event 1\",n_ts)\n",
    "print(\"Number of Seismogram documents for event 1\",n_seis)\n",
    "cursor = db.wf_miniseed.find(query)\n",
    "ens_ms = db.read_data(cursor,collection='wf_miniseed')\n",
    "print_ens_type(ens_ms,\"wf_miniseed\")\n",
    "cursor = db.wf_TimeSeries.find(query)\n",
    "ens_ts = db.read_data(cursor,collection='wf_TimeSeries')\n",
    "print_ens_type(ens_ts,\"wf_TimeSeries\")\n",
    "cursor = db.wf_Seismogram.find(query)\n",
    "ens_seis = db.read_data(cursor,collection='wf_Seismogram')\n",
    "print_ens_type(ens_seis,\"wf_Seismogram\")"
   ]
  },
  {
   "cell_type": "markdown",
   "id": "055023c7-cb62-4341-9c68-d61a062e7029",
   "metadata": {},
   "source": [
    "Enter your answer here:"
   ]
  },
  {
   "cell_type": "markdown",
   "id": "a63b12d3-ca85-431e-8073-e72fd6f47702",
   "metadata": {},
   "source": [
    "4.  Read the data for station ???? from the Tohoku earthquake from wf_Seismogram, rotate the data to RTZ, and plot the result.   I will give you the query incantation.  Session 2 will be devoted mainly to understanding this incantation:"
   ]
  },
  {
   "cell_type": "code",
   "execution_count": 1,
   "id": "63cfbada-5ac7-442c-81ad-758e289ef832",
   "metadata": {},
   "outputs": [],
   "source": [
    "query={'dfile' : 'Event?.msd', 'sta' : 'XXX'}"
   ]
  },
  {
   "cell_type": "code",
   "execution_count": null,
   "id": "73446052-d12c-4d9e-9aef-ef19027a18f9",
   "metadata": {},
   "outputs": [],
   "source": []
  }
 ],
 "metadata": {
  "kernelspec": {
   "display_name": "Python 3 (ipykernel)",
   "language": "python",
   "name": "python3"
  },
  "language_info": {
   "codemirror_mode": {
    "name": "ipython",
    "version": 3
   },
   "file_extension": ".py",
   "mimetype": "text/x-python",
   "name": "python",
   "nbconvert_exporter": "python",
   "pygments_lexer": "ipython3",
   "version": "3.10.14"
  }
 },
 "nbformat": 4,
 "nbformat_minor": 5
}
