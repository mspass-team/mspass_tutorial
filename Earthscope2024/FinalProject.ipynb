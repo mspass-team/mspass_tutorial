{
 "cells": [
  {
   "cell_type": "markdown",
   "id": "88134bf2-6066-4600-b5b1-686a4cbef3d2",
   "metadata": {},
   "source": [
    "# Final Project\n",
    "## Motivation\n",
    "Interested students are encouraged to submit a final project for this class.  Things that motivate you to take this on are:\n",
    "1.  This is an excellent way to cement what you learned here as a type of \"capstone\" activity that brings the different components taught into a whole.\n",
    "2.  We encourage you to submit a project that helps you in our research.  That will make this more than busy work but something we hope can help move your work forward.\n",
    "3.  Earthscope will add a separate endorsement on your certificate for this course if you complete a final project to the instructors satisfaction.\n",
    "4.  If you are willing and we find your project appropriate, we may ask you if we can post your jupyter notebook to the mspass tutorials github site (the one you pulled at the start of this course). \n",
    "5.  Your independent work can improve MsPASS for the community, especially if you apply it to a novel area we haven't tried.  That may also include bug fixes found as you explore darkers corners of the MsPASS code base.  \n",
    "\n",
    "For our part we promise to help you as much as possible by answering questions on slack or via email.  \n",
    "\n",
    "## Submission\n",
    "- You must submit your project as self-contained jupyter notebook.   If your project includes data that is large, supply a separate notebook that can be used to recreate the data set like the \"data_retrievela_mspass2024course\" notebook in the Earthscope2024 directory you have been working in.  If that is not feasible, that is ok but we won't be able to include it in the github site.  \n",
    "- Make sure your notebook contains your name, institution, and email contact information at the top of the file.  \n",
    "- Your notebook must contain some explanatory text of what the problem you are aiming to solve is and words describing the algorithm you implement.  Jupyter notebooks accept latex equations (see numerous online sources) if that is appropriate.  The point is the notebook should be self contained so we have some hope of understanding what you did.   Treat it like a supplement you would add to a published paper that would allow any reader to reproduce your work - a big emphasis today and a skill you all should learn.\n",
    "- The notebooks will be due 3 weeks after the end of the course.   They should be submitted by email to pavlis@iu.edu and iwang@tacc.utexas.edu."
   ]
  },
  {
   "cell_type": "code",
   "execution_count": null,
   "id": "4b38018e-becd-4454-999a-d07bebcfa0f1",
   "metadata": {},
   "outputs": [],
   "source": []
  }
 ],
 "metadata": {
  "kernelspec": {
   "display_name": "Python 3 (ipykernel)",
   "language": "python",
   "name": "python3"
  },
  "language_info": {
   "codemirror_mode": {
    "name": "ipython",
    "version": 3
   },
   "file_extension": ".py",
   "mimetype": "text/x-python",
   "name": "python",
   "nbconvert_exporter": "python",
   "pygments_lexer": "ipython3",
   "version": "3.11.5"
  }
 },
 "nbformat": 4,
 "nbformat_minor": 5
}
