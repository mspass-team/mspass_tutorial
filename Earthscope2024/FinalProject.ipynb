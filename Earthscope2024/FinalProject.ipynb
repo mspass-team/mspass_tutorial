{
 "cells": [
  {
   "cell_type": "markdown",
   "id": "88134bf2-6066-4600-b5b1-686a4cbef3d2",
   "metadata": {},
   "source": [
    "# Final Project\n",
    "## Motivation\n",
    "Interested students are encouraged to submit a final project for this class.  Things that motivate you to take this on are:\n",
    "1.  This is an excellent way to cement what you learned here as a type of \"capstone\" activity that brings the different components taught into a whole.\n",
    "2.  We encourage you to submit a project that helps you in your research.  That will make this more than busy work but something we hope can help move your work forward.\n",
    "3.  Earthscope will add a separate endorsement on your certificate for this course if you complete a final project to the instructors satisfaction.\n",
    "4.  If you are willing and we find your project appropriate, we may ask you if we can post your jupyter notebook to the mspass tutorials github site (the one you pulled at the start of this course). \n",
    "5.  Your independent work can improve MsPASS for the community, especially if you apply it to a novel area we haven't tried.  That may also include bug fixes found as you explore darkers corners of the MsPASS code base.  \n",
    "\n",
    "For our part we promise to help you as much as possible by answering questions on slack or via email.  You should think of us as acting like a research advisor in your PhD work for this project.\n",
    "\n",
    "## Submission\n",
    "- You must submit your project as self-contained jupyter notebook.   If your project includes data that is large, supply a separate notebook that can be used to recreate the data set like the \"data_retrievela_mspass2024course\" notebook in the Earthscope2024 directory you have been working in.  If that is not feasible, that is ok but we won't be able to include it in the github site.  An example of \"not feasible\", by the way, is PASSCAL data that is still proprietary to institutions involved in the project.\n",
    "- Make sure your notebook contains your name, institution, and email contact information at the top of the file.  If we include the notebook in the repository that also assures your contribution is recognized.  You could also include the final URL in publications.\n",
    "- Your notebook must contain some explanatory text of what the problem you are aiming to solve is and words describing the algorithm you implement.  Jupyter notebooks accept latex equations (see numerous online sources) if that is appropriate.  The point is the notebook should be self contained so we have some hope of understanding what you did.   Treat it like a supplement you would add to a published paper that would allow any reader to reproduce your work - a big emphasis today and a skill you all should learn.\n",
    "- The notebooks will be due 3 weeks after the end of the course.   They should be submitted by email to pavlis@iu.edu and iwang@tacc.utexas.edu."
   ]
  },
  {
   "cell_type": "markdown",
   "id": "5f64beba-deb7-46c0-9dc1-128548524d8b",
   "metadata": {},
   "source": [
    "## Prompts\n",
    "As noted the best approach is to think of an application that can aid your research.  If for some reason that is not appropriate for you here are some prompts for starting points that also illustrate the kind of things we hope to see. \n",
    "- Extend the Session3 notebook to utilize one of more of the receiver function deconvolution algorithms in MsPASS.  Note an earlier draft of the notebook had a rough start to do that, but we decided it was too much material that diluted the main message of that session on parallel processing.   \n",
    "- Critically evaluate one or more of the snr metrics we computed from trial data sets.   It would be a useful addition to the MsPASS documentation to illustrate the size of the metrics for different signals. \n",
    "- Work out a prototype workflow to efficiently handle noise correlation in parallel with MsPASS and modest continuous data set.\n",
    "- Demonstrate an example of plotting Metadata attributes stored in MongoDB.  The graphics package obspy uses is packaged with MsPASS.  You can also use the python bindings of GMT, but you would probably need to do that on a local system rather than GeoLAB as GMT was not installed with the container for this class.   "
   ]
  },
  {
   "cell_type": "code",
   "execution_count": null,
   "id": "2fb76573-0773-46fc-8b5a-9cf61923424a",
   "metadata": {},
   "outputs": [],
   "source": []
  }
 ],
 "metadata": {
  "kernelspec": {
   "display_name": "Python 3 (ipykernel)",
   "language": "python",
   "name": "python3"
  },
  "language_info": {
   "codemirror_mode": {
    "name": "ipython",
    "version": 3
   },
   "file_extension": ".py",
   "mimetype": "text/x-python",
   "name": "python",
   "nbconvert_exporter": "python",
   "pygments_lexer": "ipython3",
   "version": "3.9.18"
  }
 },
 "nbformat": 4,
 "nbformat_minor": 5
}
