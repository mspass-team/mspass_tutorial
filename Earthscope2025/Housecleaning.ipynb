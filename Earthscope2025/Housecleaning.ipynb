{
 "cells": [
  {
   "cell_type": "markdown",
   "id": "b862cbcf-983d-411f-86a3-bbd4605cc5d1",
   "metadata": {},
   "source": [
    "# Housekeeping\n",
    "### *Prof. Gary L. Pavlis*\n",
    "\n",
    "At the conclusion of the MsPASS short course you need to be a good citizen and clean up files on GeoLab that you will no longer be needing.  This notebook describes how you can do that in a more elegant way than `rm -r *` run from your home directory. (If you don't know that unix command, it removes everything!  You likely don't want that.)  Note:\n",
    "\n",
    "-  This notebook assumes you want to preserve only jupyter notebook files.\n",
    "-  You should ONLY do this housecleaning after you have finished the final homework assignment and after completing the optional final project (if appropriate).  "
   ]
  },
  {
   "cell_type": "markdown",
   "id": "56290aac-691e-4a5c-8cbc-e13a2d01c638",
   "metadata": {},
   "source": [
    "## Cleanup waveform files and scratch data\n",
    "In a jupyter terminal use the unix cd command to make Earthscope2025 (the working directory for the course) the current directory.  Clear all the waveform data files we created with this simple incantation:\n",
    "```\n",
    "cd ~/mspass_tutorial/Earthscope2025\n",
    "rm -rf wf_*\n",
    "```"
   ]
  },
  {
   "cell_type": "markdown",
   "id": "ead9c45d-1afe-4bef-9d7a-5aace9f03f40",
   "metadata": {},
   "source": [
    "## Discard database\n",
    "We configured MongoDb to use the directory `~/db` when we used this incantation at the start of each work session:\n",
    "```\n",
    "cd   #  makes sure you are running this in your home directory\n",
    "mongod --dbpath ./db --logpath ./logs/mongo_log\n",
    "```\n",
    "If you used that approach, use this set of simple shell commands to remove the database data:\n",
    "```\n",
    "cd\n",
    "rm -rf db logs\n",
    "```\n",
    "Note if you chose to put the database files in a different directory, the cd command should be changed to select that directory.\n",
    "\n"
   ]
  }
 ],
 "metadata": {
  "kernelspec": {
   "display_name": "Python 3 (ipykernel)",
   "language": "python",
   "name": "python3"
  },
  "language_info": {
   "codemirror_mode": {
    "name": "ipython",
    "version": 3
   },
   "file_extension": ".py",
   "mimetype": "text/x-python",
   "name": "python",
   "nbconvert_exporter": "python",
   "pygments_lexer": "ipython3",
   "version": "3.10.12"
  }
 },
 "nbformat": 4,
 "nbformat_minor": 5
}
