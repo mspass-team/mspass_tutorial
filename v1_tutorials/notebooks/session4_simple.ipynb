{
 "cells": [
  {
   "cell_type": "code",
   "execution_count": 5,
   "id": "97c4c623",
   "metadata": {},
   "outputs": [],
   "source": [
    "import time\n",
    "import os\n",
    "from mspasspy.algorithms import signals\n",
    "from mspasspy.ccore.algorithms.basic import TimeWindow\n",
    "from mspasspy.algorithms.window import WindowData\n",
    "from mspasspy.graphics import SeismicPlotter\n",
    "from mspasspy.algorithms.RFdeconProcessor import RFdeconProcessor, RFdecon\n",
    "from mspasspy.algorithms.window import scale\n",
    "from mspasspy.db.client import DBClient\n",
    "from mspasspy.db.database import Database\n",
    "\n",
    "# initialize the dask scheduler and Database client\n",
    "hostname = os.environ.get('HOSTNAME')\n",
    "client = DBClient(hostname)\n",
    "db=Database(client, 'usarraytest')\n",
    "# define deconvolution processor\n",
    "processor=RFdeconProcessor()\n",
    "\n",
    "# define window function for seismogram\n",
    "def window_seis(i):\n",
    "    twin=TimeWindow(-20.0,150.0)\n",
    "    t=i.t0 + 300\n",
    "    i.ator(t)\n",
    "    wd = None\n",
    "    try:\n",
    "        wd = WindowData(i,twin)\n",
    "    except Exception as err:\n",
    "        wd = \"error\"\n",
    "    return wd"
   ]
  },
  {
   "cell_type": "code",
   "execution_count": 9,
   "id": "9f9f21b6",
   "metadata": {},
   "outputs": [
    {
     "name": "stdout",
     "output_type": "stream",
     "text": [
      "Elapsed time for processing all =  57.28491187095642\n"
     ]
    }
   ],
   "source": [
    "# input data size\n",
    "record_num = 10\n",
    "# start timing\n",
    "t0=time.time()\n",
    "cursor=db.wf_Seismogram.find({},limit=record_num)\n",
    "# read -> detrend -> filter -> window -> deconvolution\n",
    "for doc in cursor:\n",
    "    seis = db.read_data(doc, collection='wf_Seismogram')\n",
    "    seis['arrival.time'] = seis.t0 + 300\n",
    "    seis = signals.detrend(seis,'demean')\n",
    "    seis = signals.filter(seis,\"bandpass\",freqmin=0.01,freqmax=2.0)\n",
    "    # there is a window data function in the RF decon\n",
    "    # seis = window_seis(seis)\n",
    "    seis = RFdecon(seis, processor)\n",
    "t1=time.time()-t0\n",
    "print('Elapsed time for processing all = ',t1)"
   ]
  },
  {
   "cell_type": "code",
   "execution_count": 10,
   "id": "e921c596",
   "metadata": {},
   "outputs": [
    {
     "name": "stderr",
     "output_type": "stream",
     "text": [
      "distributed.protocol.pickle - INFO - Failed to serialize (<function reify at 0x2ba38cd4c158>, (<function map_chunk at 0x2ba38cd4c510>, <function RFdecon at 0x2ba38e3208c8>, [(<function map_chunk at 0x2ba38cd4c510>, <function filter at 0x2ba3894f26a8>, [(<function map_chunk at 0x2ba38cd4c510>, <function detrend at 0x2ba3894f29d8>, [(<function map_chunk at 0x2ba38cd4c510>, <function read_distributed_data.<locals>.<lambda> at 0x2ba38f08d268>, [\"('from_sequence-318001d8724ef6fa32b2cf40f12805e3', 2)\"], None, {}), (<class 'itertools.repeat'>, 'demean')], None, {}), (<class 'itertools.repeat'>, 'bandpass')], None, {'freqmin': 0.01, 'freqmax': 2.0}), (<class 'itertools.repeat'>, <mspasspy.algorithms.RFdeconProcessor.RFdeconProcessor object at 0x2ba38e26ef98>)], None, {})). Exception: can't pickle mspasspy.ccore.algorithms.deconvolution.LeastSquareDecon objects\n",
      "distributed.protocol.pickle - INFO - Failed to serialize (<function reify at 0x2ba38cd4c158>, (<function map_chunk at 0x2ba38cd4c510>, <function RFdecon at 0x2ba38e3208c8>, [(<function map_chunk at 0x2ba38cd4c510>, <function filter at 0x2ba3894f26a8>, [(<function map_chunk at 0x2ba38cd4c510>, <function detrend at 0x2ba3894f29d8>, [(<function map_chunk at 0x2ba38cd4c510>, <function read_distributed_data.<locals>.<lambda> at 0x2ba38f08d268>, [\"('from_sequence-318001d8724ef6fa32b2cf40f12805e3', 8)\"], None, {}), (<class 'itertools.repeat'>, 'demean')], None, {}), (<class 'itertools.repeat'>, 'bandpass')], None, {'freqmin': 0.01, 'freqmax': 2.0}), (<class 'itertools.repeat'>, <mspasspy.algorithms.RFdeconProcessor.RFdeconProcessor object at 0x2ba38e26ef98>)], None, {})). Exception: can't pickle mspasspy.ccore.algorithms.deconvolution.LeastSquareDecon objects\n",
      "distributed.protocol.pickle - INFO - Failed to serialize (<function reify at 0x2ba38cd4c158>, (<function map_chunk at 0x2ba38cd4c510>, <function RFdecon at 0x2ba38e3208c8>, [(<function map_chunk at 0x2ba38cd4c510>, <function filter at 0x2ba3894f26a8>, [(<function map_chunk at 0x2ba38cd4c510>, <function detrend at 0x2ba3894f29d8>, [(<function map_chunk at 0x2ba38cd4c510>, <function read_distributed_data.<locals>.<lambda> at 0x2ba38f08d268>, [\"('from_sequence-318001d8724ef6fa32b2cf40f12805e3', 3)\"], None, {}), (<class 'itertools.repeat'>, 'demean')], None, {}), (<class 'itertools.repeat'>, 'bandpass')], None, {'freqmin': 0.01, 'freqmax': 2.0}), (<class 'itertools.repeat'>, <mspasspy.algorithms.RFdeconProcessor.RFdeconProcessor object at 0x2ba38e26ef98>)], None, {})). Exception: can't pickle mspasspy.ccore.algorithms.deconvolution.LeastSquareDecon objects\n",
      "distributed.protocol.pickle - INFO - Failed to serialize (<function reify at 0x2ba38cd4c158>, (<function map_chunk at 0x2ba38cd4c510>, <function RFdecon at 0x2ba38e3208c8>, [(<function map_chunk at 0x2ba38cd4c510>, <function filter at 0x2ba3894f26a8>, [(<function map_chunk at 0x2ba38cd4c510>, <function detrend at 0x2ba3894f29d8>, [(<function map_chunk at 0x2ba38cd4c510>, <function read_distributed_data.<locals>.<lambda> at 0x2ba38f08d268>, [\"('from_sequence-318001d8724ef6fa32b2cf40f12805e3', 5)\"], None, {}), (<class 'itertools.repeat'>, 'demean')], None, {}), (<class 'itertools.repeat'>, 'bandpass')], None, {'freqmin': 0.01, 'freqmax': 2.0}), (<class 'itertools.repeat'>, <mspasspy.algorithms.RFdeconProcessor.RFdeconProcessor object at 0x2ba38e26ef98>)], None, {})). Exception: can't pickle mspasspy.ccore.algorithms.deconvolution.LeastSquareDecon objects\n",
      "distributed.protocol.pickle - INFO - Failed to serialize (<function reify at 0x2ba38cd4c158>, (<function map_chunk at 0x2ba38cd4c510>, <function RFdecon at 0x2ba38e3208c8>, [(<function map_chunk at 0x2ba38cd4c510>, <function filter at 0x2ba3894f26a8>, [(<function map_chunk at 0x2ba38cd4c510>, <function detrend at 0x2ba3894f29d8>, [(<function map_chunk at 0x2ba38cd4c510>, <function read_distributed_data.<locals>.<lambda> at 0x2ba38f08d268>, [\"('from_sequence-318001d8724ef6fa32b2cf40f12805e3', 9)\"], None, {}), (<class 'itertools.repeat'>, 'demean')], None, {}), (<class 'itertools.repeat'>, 'bandpass')], None, {'freqmin': 0.01, 'freqmax': 2.0}), (<class 'itertools.repeat'>, <mspasspy.algorithms.RFdeconProcessor.RFdeconProcessor object at 0x2ba38e26ef98>)], None, {})). Exception: can't pickle mspasspy.ccore.algorithms.deconvolution.LeastSquareDecon objects\n",
      "distributed.protocol.pickle - INFO - Failed to serialize (<function reify at 0x2ba38cd4c158>, (<function map_chunk at 0x2ba38cd4c510>, <function RFdecon at 0x2ba38e3208c8>, [(<function map_chunk at 0x2ba38cd4c510>, <function filter at 0x2ba3894f26a8>, [(<function map_chunk at 0x2ba38cd4c510>, <function detrend at 0x2ba3894f29d8>, [(<function map_chunk at 0x2ba38cd4c510>, <function read_distributed_data.<locals>.<lambda> at 0x2ba38f08d268>, [\"('from_sequence-318001d8724ef6fa32b2cf40f12805e3', 7)\"], None, {}), (<class 'itertools.repeat'>, 'demean')], None, {}), (<class 'itertools.repeat'>, 'bandpass')], None, {'freqmin': 0.01, 'freqmax': 2.0}), (<class 'itertools.repeat'>, <mspasspy.algorithms.RFdeconProcessor.RFdeconProcessor object at 0x2ba38e26ef98>)], None, {})). Exception: can't pickle mspasspy.ccore.algorithms.deconvolution.LeastSquareDecon objects\n",
      "distributed.protocol.pickle - INFO - Failed to serialize (<function reify at 0x2ba38cd4c158>, (<function map_chunk at 0x2ba38cd4c510>, <function RFdecon at 0x2ba38e3208c8>, [(<function map_chunk at 0x2ba38cd4c510>, <function filter at 0x2ba3894f26a8>, [(<function map_chunk at 0x2ba38cd4c510>, <function detrend at 0x2ba3894f29d8>, [(<function map_chunk at 0x2ba38cd4c510>, <function read_distributed_data.<locals>.<lambda> at 0x2ba38f08d268>, [\"('from_sequence-318001d8724ef6fa32b2cf40f12805e3', 0)\"], None, {}), (<class 'itertools.repeat'>, 'demean')], None, {}), (<class 'itertools.repeat'>, 'bandpass')], None, {'freqmin': 0.01, 'freqmax': 2.0}), (<class 'itertools.repeat'>, <mspasspy.algorithms.RFdeconProcessor.RFdeconProcessor object at 0x2ba38e26ef98>)], None, {})). Exception: can't pickle mspasspy.ccore.algorithms.deconvolution.LeastSquareDecon objects\n",
      "distributed.protocol.pickle - INFO - Failed to serialize (<function reify at 0x2ba38cd4c158>, (<function map_chunk at 0x2ba38cd4c510>, <function RFdecon at 0x2ba38e3208c8>, [(<function map_chunk at 0x2ba38cd4c510>, <function filter at 0x2ba3894f26a8>, [(<function map_chunk at 0x2ba38cd4c510>, <function detrend at 0x2ba3894f29d8>, [(<function map_chunk at 0x2ba38cd4c510>, <function read_distributed_data.<locals>.<lambda> at 0x2ba38f08d268>, [\"('from_sequence-318001d8724ef6fa32b2cf40f12805e3', 4)\"], None, {}), (<class 'itertools.repeat'>, 'demean')], None, {}), (<class 'itertools.repeat'>, 'bandpass')], None, {'freqmin': 0.01, 'freqmax': 2.0}), (<class 'itertools.repeat'>, <mspasspy.algorithms.RFdeconProcessor.RFdeconProcessor object at 0x2ba38e26ef98>)], None, {})). Exception: can't pickle mspasspy.ccore.algorithms.deconvolution.LeastSquareDecon objects\n",
      "distributed.protocol.pickle - INFO - Failed to serialize (<function reify at 0x2ba38cd4c158>, (<function map_chunk at 0x2ba38cd4c510>, <function RFdecon at 0x2ba38e3208c8>, [(<function map_chunk at 0x2ba38cd4c510>, <function filter at 0x2ba3894f26a8>, [(<function map_chunk at 0x2ba38cd4c510>, <function detrend at 0x2ba3894f29d8>, [(<function map_chunk at 0x2ba38cd4c510>, <function read_distributed_data.<locals>.<lambda> at 0x2ba38f08d268>, [\"('from_sequence-318001d8724ef6fa32b2cf40f12805e3', 1)\"], None, {}), (<class 'itertools.repeat'>, 'demean')], None, {}), (<class 'itertools.repeat'>, 'bandpass')], None, {'freqmin': 0.01, 'freqmax': 2.0}), (<class 'itertools.repeat'>, <mspasspy.algorithms.RFdeconProcessor.RFdeconProcessor object at 0x2ba38e26ef98>)], None, {})). Exception: can't pickle mspasspy.ccore.algorithms.deconvolution.LeastSquareDecon objects\n",
      "distributed.protocol.pickle - INFO - Failed to serialize (<function reify at 0x2ba38cd4c158>, (<function map_chunk at 0x2ba38cd4c510>, <function RFdecon at 0x2ba38e3208c8>, [(<function map_chunk at 0x2ba38cd4c510>, <function filter at 0x2ba3894f26a8>, [(<function map_chunk at 0x2ba38cd4c510>, <function detrend at 0x2ba3894f29d8>, [(<function map_chunk at 0x2ba38cd4c510>, <function read_distributed_data.<locals>.<lambda> at 0x2ba38f08d268>, [\"('from_sequence-318001d8724ef6fa32b2cf40f12805e3', 6)\"], None, {}), (<class 'itertools.repeat'>, 'demean')], None, {}), (<class 'itertools.repeat'>, 'bandpass')], None, {'freqmin': 0.01, 'freqmax': 2.0}), (<class 'itertools.repeat'>, <mspasspy.algorithms.RFdeconProcessor.RFdeconProcessor object at 0x2ba38e26ef98>)], None, {})). Exception: can't pickle mspasspy.ccore.algorithms.deconvolution.LeastSquareDecon objects\n"
     ]
    },
    {
     "ename": "KilledWorker",
     "evalue": "(\"('detrend-filter-lambda-RFdecon-6deddebd4dbe5d32c5bd8a701d29e16b', 2)\", <Worker 'tcp://206.76.206.14:41902', name: tcp://206.76.206.14:41902, memory: 0, processing: 1>)",
     "output_type": "error",
     "traceback": [
      "\u001b[0;31m---------------------------------------------------------------------------\u001b[0m",
      "\u001b[0;31mKilledWorker\u001b[0m                              Traceback (most recent call last)",
      "\u001b[0;32m<ipython-input-10-5b2641079a32>\u001b[0m in \u001b[0;36m<module>\u001b[0;34m\u001b[0m\n\u001b[1;32m     18\u001b[0m \u001b[0mdata_win\u001b[0m \u001b[0;34m=\u001b[0m \u001b[0mdata_fil\u001b[0m\u001b[0;34m.\u001b[0m\u001b[0mmap\u001b[0m\u001b[0;34m(\u001b[0m\u001b[0mwindow_seis\u001b[0m\u001b[0;34m)\u001b[0m\u001b[0;34m\u001b[0m\u001b[0;34m\u001b[0m\u001b[0m\n\u001b[1;32m     19\u001b[0m \u001b[0mdata_decon\u001b[0m \u001b[0;34m=\u001b[0m \u001b[0mdata_fil\u001b[0m\u001b[0;34m.\u001b[0m\u001b[0mmap\u001b[0m\u001b[0;34m(\u001b[0m\u001b[0mRFdecon\u001b[0m\u001b[0;34m,\u001b[0m \u001b[0mprocessor\u001b[0m\u001b[0;34m)\u001b[0m\u001b[0;34m\u001b[0m\u001b[0;34m\u001b[0m\u001b[0m\n\u001b[0;32m---> 20\u001b[0;31m \u001b[0mdata_list\u001b[0m \u001b[0;34m=\u001b[0m \u001b[0mdata_decon\u001b[0m\u001b[0;34m.\u001b[0m\u001b[0mcompute\u001b[0m\u001b[0;34m(\u001b[0m\u001b[0;34m)\u001b[0m\u001b[0;34m\u001b[0m\u001b[0;34m\u001b[0m\u001b[0m\n\u001b[0m\u001b[1;32m     21\u001b[0m \u001b[0mt1\u001b[0m\u001b[0;34m=\u001b[0m\u001b[0mtime\u001b[0m\u001b[0;34m.\u001b[0m\u001b[0mtime\u001b[0m\u001b[0;34m(\u001b[0m\u001b[0;34m)\u001b[0m\u001b[0;34m-\u001b[0m\u001b[0mt0\u001b[0m\u001b[0;34m\u001b[0m\u001b[0;34m\u001b[0m\u001b[0m\n\u001b[1;32m     22\u001b[0m \u001b[0mprint\u001b[0m\u001b[0;34m(\u001b[0m\u001b[0;34m'Elapsed time for processing all = '\u001b[0m\u001b[0;34m,\u001b[0m\u001b[0mt1\u001b[0m\u001b[0;34m)\u001b[0m\u001b[0;34m\u001b[0m\u001b[0;34m\u001b[0m\u001b[0m\n",
      "\u001b[0;32m/usr/local/lib/python3.6/dist-packages/dask/base.py\u001b[0m in \u001b[0;36mcompute\u001b[0;34m(self, **kwargs)\u001b[0m\n\u001b[1;32m    281\u001b[0m         \u001b[0mdask\u001b[0m\u001b[0;34m.\u001b[0m\u001b[0mbase\u001b[0m\u001b[0;34m.\u001b[0m\u001b[0mcompute\u001b[0m\u001b[0;34m\u001b[0m\u001b[0;34m\u001b[0m\u001b[0m\n\u001b[1;32m    282\u001b[0m         \"\"\"\n\u001b[0;32m--> 283\u001b[0;31m         \u001b[0;34m(\u001b[0m\u001b[0mresult\u001b[0m\u001b[0;34m,\u001b[0m\u001b[0;34m)\u001b[0m \u001b[0;34m=\u001b[0m \u001b[0mcompute\u001b[0m\u001b[0;34m(\u001b[0m\u001b[0mself\u001b[0m\u001b[0;34m,\u001b[0m \u001b[0mtraverse\u001b[0m\u001b[0;34m=\u001b[0m\u001b[0;32mFalse\u001b[0m\u001b[0;34m,\u001b[0m \u001b[0;34m**\u001b[0m\u001b[0mkwargs\u001b[0m\u001b[0;34m)\u001b[0m\u001b[0;34m\u001b[0m\u001b[0;34m\u001b[0m\u001b[0m\n\u001b[0m\u001b[1;32m    284\u001b[0m         \u001b[0;32mreturn\u001b[0m \u001b[0mresult\u001b[0m\u001b[0;34m\u001b[0m\u001b[0;34m\u001b[0m\u001b[0m\n\u001b[1;32m    285\u001b[0m \u001b[0;34m\u001b[0m\u001b[0m\n",
      "\u001b[0;32m/usr/local/lib/python3.6/dist-packages/dask/base.py\u001b[0m in \u001b[0;36mcompute\u001b[0;34m(*args, **kwargs)\u001b[0m\n\u001b[1;32m    563\u001b[0m         \u001b[0mpostcomputes\u001b[0m\u001b[0;34m.\u001b[0m\u001b[0mappend\u001b[0m\u001b[0;34m(\u001b[0m\u001b[0mx\u001b[0m\u001b[0;34m.\u001b[0m\u001b[0m__dask_postcompute__\u001b[0m\u001b[0;34m(\u001b[0m\u001b[0;34m)\u001b[0m\u001b[0;34m)\u001b[0m\u001b[0;34m\u001b[0m\u001b[0;34m\u001b[0m\u001b[0m\n\u001b[1;32m    564\u001b[0m \u001b[0;34m\u001b[0m\u001b[0m\n\u001b[0;32m--> 565\u001b[0;31m     \u001b[0mresults\u001b[0m \u001b[0;34m=\u001b[0m \u001b[0mschedule\u001b[0m\u001b[0;34m(\u001b[0m\u001b[0mdsk\u001b[0m\u001b[0;34m,\u001b[0m \u001b[0mkeys\u001b[0m\u001b[0;34m,\u001b[0m \u001b[0;34m**\u001b[0m\u001b[0mkwargs\u001b[0m\u001b[0;34m)\u001b[0m\u001b[0;34m\u001b[0m\u001b[0;34m\u001b[0m\u001b[0m\n\u001b[0m\u001b[1;32m    566\u001b[0m     \u001b[0;32mreturn\u001b[0m \u001b[0mrepack\u001b[0m\u001b[0;34m(\u001b[0m\u001b[0;34m[\u001b[0m\u001b[0mf\u001b[0m\u001b[0;34m(\u001b[0m\u001b[0mr\u001b[0m\u001b[0;34m,\u001b[0m \u001b[0;34m*\u001b[0m\u001b[0ma\u001b[0m\u001b[0;34m)\u001b[0m \u001b[0;32mfor\u001b[0m \u001b[0mr\u001b[0m\u001b[0;34m,\u001b[0m \u001b[0;34m(\u001b[0m\u001b[0mf\u001b[0m\u001b[0;34m,\u001b[0m \u001b[0ma\u001b[0m\u001b[0;34m)\u001b[0m \u001b[0;32min\u001b[0m \u001b[0mzip\u001b[0m\u001b[0;34m(\u001b[0m\u001b[0mresults\u001b[0m\u001b[0;34m,\u001b[0m \u001b[0mpostcomputes\u001b[0m\u001b[0;34m)\u001b[0m\u001b[0;34m]\u001b[0m\u001b[0;34m)\u001b[0m\u001b[0;34m\u001b[0m\u001b[0;34m\u001b[0m\u001b[0m\n\u001b[1;32m    567\u001b[0m \u001b[0;34m\u001b[0m\u001b[0m\n",
      "\u001b[0;32m/usr/local/lib/python3.6/dist-packages/distributed/client.py\u001b[0m in \u001b[0;36mget\u001b[0;34m(self, dsk, keys, workers, allow_other_workers, resources, sync, asynchronous, direct, retries, priority, fifo_timeout, actors, **kwargs)\u001b[0m\n\u001b[1;32m   2652\u001b[0m                     \u001b[0mshould_rejoin\u001b[0m \u001b[0;34m=\u001b[0m \u001b[0;32mFalse\u001b[0m\u001b[0;34m\u001b[0m\u001b[0;34m\u001b[0m\u001b[0m\n\u001b[1;32m   2653\u001b[0m             \u001b[0;32mtry\u001b[0m\u001b[0;34m:\u001b[0m\u001b[0;34m\u001b[0m\u001b[0;34m\u001b[0m\u001b[0m\n\u001b[0;32m-> 2654\u001b[0;31m                 \u001b[0mresults\u001b[0m \u001b[0;34m=\u001b[0m \u001b[0mself\u001b[0m\u001b[0;34m.\u001b[0m\u001b[0mgather\u001b[0m\u001b[0;34m(\u001b[0m\u001b[0mpacked\u001b[0m\u001b[0;34m,\u001b[0m \u001b[0masynchronous\u001b[0m\u001b[0;34m=\u001b[0m\u001b[0masynchronous\u001b[0m\u001b[0;34m,\u001b[0m \u001b[0mdirect\u001b[0m\u001b[0;34m=\u001b[0m\u001b[0mdirect\u001b[0m\u001b[0;34m)\u001b[0m\u001b[0;34m\u001b[0m\u001b[0;34m\u001b[0m\u001b[0m\n\u001b[0m\u001b[1;32m   2655\u001b[0m             \u001b[0;32mfinally\u001b[0m\u001b[0;34m:\u001b[0m\u001b[0;34m\u001b[0m\u001b[0;34m\u001b[0m\u001b[0m\n\u001b[1;32m   2656\u001b[0m                 \u001b[0;32mfor\u001b[0m \u001b[0mf\u001b[0m \u001b[0;32min\u001b[0m \u001b[0mfutures\u001b[0m\u001b[0;34m.\u001b[0m\u001b[0mvalues\u001b[0m\u001b[0;34m(\u001b[0m\u001b[0;34m)\u001b[0m\u001b[0;34m:\u001b[0m\u001b[0;34m\u001b[0m\u001b[0;34m\u001b[0m\u001b[0m\n",
      "\u001b[0;32m/usr/local/lib/python3.6/dist-packages/distributed/client.py\u001b[0m in \u001b[0;36mgather\u001b[0;34m(self, futures, errors, direct, asynchronous)\u001b[0m\n\u001b[1;32m   1967\u001b[0m                 \u001b[0mdirect\u001b[0m\u001b[0;34m=\u001b[0m\u001b[0mdirect\u001b[0m\u001b[0;34m,\u001b[0m\u001b[0;34m\u001b[0m\u001b[0;34m\u001b[0m\u001b[0m\n\u001b[1;32m   1968\u001b[0m                 \u001b[0mlocal_worker\u001b[0m\u001b[0;34m=\u001b[0m\u001b[0mlocal_worker\u001b[0m\u001b[0;34m,\u001b[0m\u001b[0;34m\u001b[0m\u001b[0;34m\u001b[0m\u001b[0m\n\u001b[0;32m-> 1969\u001b[0;31m                 \u001b[0masynchronous\u001b[0m\u001b[0;34m=\u001b[0m\u001b[0masynchronous\u001b[0m\u001b[0;34m,\u001b[0m\u001b[0;34m\u001b[0m\u001b[0;34m\u001b[0m\u001b[0m\n\u001b[0m\u001b[1;32m   1970\u001b[0m             )\n\u001b[1;32m   1971\u001b[0m \u001b[0;34m\u001b[0m\u001b[0m\n",
      "\u001b[0;32m/usr/local/lib/python3.6/dist-packages/distributed/client.py\u001b[0m in \u001b[0;36msync\u001b[0;34m(self, func, asynchronous, callback_timeout, *args, **kwargs)\u001b[0m\n\u001b[1;32m    836\u001b[0m         \u001b[0;32melse\u001b[0m\u001b[0;34m:\u001b[0m\u001b[0;34m\u001b[0m\u001b[0;34m\u001b[0m\u001b[0m\n\u001b[1;32m    837\u001b[0m             return sync(\n\u001b[0;32m--> 838\u001b[0;31m                 \u001b[0mself\u001b[0m\u001b[0;34m.\u001b[0m\u001b[0mloop\u001b[0m\u001b[0;34m,\u001b[0m \u001b[0mfunc\u001b[0m\u001b[0;34m,\u001b[0m \u001b[0;34m*\u001b[0m\u001b[0margs\u001b[0m\u001b[0;34m,\u001b[0m \u001b[0mcallback_timeout\u001b[0m\u001b[0;34m=\u001b[0m\u001b[0mcallback_timeout\u001b[0m\u001b[0;34m,\u001b[0m \u001b[0;34m**\u001b[0m\u001b[0mkwargs\u001b[0m\u001b[0;34m\u001b[0m\u001b[0;34m\u001b[0m\u001b[0m\n\u001b[0m\u001b[1;32m    839\u001b[0m             )\n\u001b[1;32m    840\u001b[0m \u001b[0;34m\u001b[0m\u001b[0m\n",
      "\u001b[0;32m/usr/local/lib/python3.6/dist-packages/distributed/utils.py\u001b[0m in \u001b[0;36msync\u001b[0;34m(loop, func, callback_timeout, *args, **kwargs)\u001b[0m\n\u001b[1;32m    349\u001b[0m     \u001b[0;32mif\u001b[0m \u001b[0merror\u001b[0m\u001b[0;34m[\u001b[0m\u001b[0;36m0\u001b[0m\u001b[0;34m]\u001b[0m\u001b[0;34m:\u001b[0m\u001b[0;34m\u001b[0m\u001b[0;34m\u001b[0m\u001b[0m\n\u001b[1;32m    350\u001b[0m         \u001b[0mtyp\u001b[0m\u001b[0;34m,\u001b[0m \u001b[0mexc\u001b[0m\u001b[0;34m,\u001b[0m \u001b[0mtb\u001b[0m \u001b[0;34m=\u001b[0m \u001b[0merror\u001b[0m\u001b[0;34m[\u001b[0m\u001b[0;36m0\u001b[0m\u001b[0;34m]\u001b[0m\u001b[0;34m\u001b[0m\u001b[0;34m\u001b[0m\u001b[0m\n\u001b[0;32m--> 351\u001b[0;31m         \u001b[0;32mraise\u001b[0m \u001b[0mexc\u001b[0m\u001b[0;34m.\u001b[0m\u001b[0mwith_traceback\u001b[0m\u001b[0;34m(\u001b[0m\u001b[0mtb\u001b[0m\u001b[0;34m)\u001b[0m\u001b[0;34m\u001b[0m\u001b[0;34m\u001b[0m\u001b[0m\n\u001b[0m\u001b[1;32m    352\u001b[0m     \u001b[0;32melse\u001b[0m\u001b[0;34m:\u001b[0m\u001b[0;34m\u001b[0m\u001b[0;34m\u001b[0m\u001b[0m\n\u001b[1;32m    353\u001b[0m         \u001b[0;32mreturn\u001b[0m \u001b[0mresult\u001b[0m\u001b[0;34m[\u001b[0m\u001b[0;36m0\u001b[0m\u001b[0;34m]\u001b[0m\u001b[0;34m\u001b[0m\u001b[0;34m\u001b[0m\u001b[0m\n",
      "\u001b[0;32m/usr/local/lib/python3.6/dist-packages/distributed/utils.py\u001b[0m in \u001b[0;36mf\u001b[0;34m()\u001b[0m\n\u001b[1;32m    332\u001b[0m             \u001b[0;32mif\u001b[0m \u001b[0mcallback_timeout\u001b[0m \u001b[0;32mis\u001b[0m \u001b[0;32mnot\u001b[0m \u001b[0;32mNone\u001b[0m\u001b[0;34m:\u001b[0m\u001b[0;34m\u001b[0m\u001b[0;34m\u001b[0m\u001b[0m\n\u001b[1;32m    333\u001b[0m                 \u001b[0mfuture\u001b[0m \u001b[0;34m=\u001b[0m \u001b[0masyncio\u001b[0m\u001b[0;34m.\u001b[0m\u001b[0mwait_for\u001b[0m\u001b[0;34m(\u001b[0m\u001b[0mfuture\u001b[0m\u001b[0;34m,\u001b[0m \u001b[0mcallback_timeout\u001b[0m\u001b[0;34m)\u001b[0m\u001b[0;34m\u001b[0m\u001b[0;34m\u001b[0m\u001b[0m\n\u001b[0;32m--> 334\u001b[0;31m             \u001b[0mresult\u001b[0m\u001b[0;34m[\u001b[0m\u001b[0;36m0\u001b[0m\u001b[0;34m]\u001b[0m \u001b[0;34m=\u001b[0m \u001b[0;32myield\u001b[0m \u001b[0mfuture\u001b[0m\u001b[0;34m\u001b[0m\u001b[0;34m\u001b[0m\u001b[0m\n\u001b[0m\u001b[1;32m    335\u001b[0m         \u001b[0;32mexcept\u001b[0m \u001b[0mException\u001b[0m \u001b[0;32mas\u001b[0m \u001b[0mexc\u001b[0m\u001b[0;34m:\u001b[0m\u001b[0;34m\u001b[0m\u001b[0;34m\u001b[0m\u001b[0m\n\u001b[1;32m    336\u001b[0m             \u001b[0merror\u001b[0m\u001b[0;34m[\u001b[0m\u001b[0;36m0\u001b[0m\u001b[0;34m]\u001b[0m \u001b[0;34m=\u001b[0m \u001b[0msys\u001b[0m\u001b[0;34m.\u001b[0m\u001b[0mexc_info\u001b[0m\u001b[0;34m(\u001b[0m\u001b[0;34m)\u001b[0m\u001b[0;34m\u001b[0m\u001b[0;34m\u001b[0m\u001b[0m\n",
      "\u001b[0;32m/usr/local/lib/python3.6/dist-packages/tornado/gen.py\u001b[0m in \u001b[0;36mrun\u001b[0;34m(self)\u001b[0m\n\u001b[1;32m    760\u001b[0m \u001b[0;34m\u001b[0m\u001b[0m\n\u001b[1;32m    761\u001b[0m                     \u001b[0;32mtry\u001b[0m\u001b[0;34m:\u001b[0m\u001b[0;34m\u001b[0m\u001b[0;34m\u001b[0m\u001b[0m\n\u001b[0;32m--> 762\u001b[0;31m                         \u001b[0mvalue\u001b[0m \u001b[0;34m=\u001b[0m \u001b[0mfuture\u001b[0m\u001b[0;34m.\u001b[0m\u001b[0mresult\u001b[0m\u001b[0;34m(\u001b[0m\u001b[0;34m)\u001b[0m\u001b[0;34m\u001b[0m\u001b[0;34m\u001b[0m\u001b[0m\n\u001b[0m\u001b[1;32m    763\u001b[0m                     \u001b[0;32mexcept\u001b[0m \u001b[0mException\u001b[0m\u001b[0;34m:\u001b[0m\u001b[0;34m\u001b[0m\u001b[0;34m\u001b[0m\u001b[0m\n\u001b[1;32m    764\u001b[0m                         \u001b[0mexc_info\u001b[0m \u001b[0;34m=\u001b[0m \u001b[0msys\u001b[0m\u001b[0;34m.\u001b[0m\u001b[0mexc_info\u001b[0m\u001b[0;34m(\u001b[0m\u001b[0;34m)\u001b[0m\u001b[0;34m\u001b[0m\u001b[0;34m\u001b[0m\u001b[0m\n",
      "\u001b[0;32m/usr/local/lib/python3.6/dist-packages/distributed/client.py\u001b[0m in \u001b[0;36m_gather\u001b[0;34m(self, futures, errors, direct, local_worker)\u001b[0m\n\u001b[1;32m   1826\u001b[0m                             \u001b[0mexc\u001b[0m \u001b[0;34m=\u001b[0m \u001b[0mCancelledError\u001b[0m\u001b[0;34m(\u001b[0m\u001b[0mkey\u001b[0m\u001b[0;34m)\u001b[0m\u001b[0;34m\u001b[0m\u001b[0;34m\u001b[0m\u001b[0m\n\u001b[1;32m   1827\u001b[0m                         \u001b[0;32melse\u001b[0m\u001b[0;34m:\u001b[0m\u001b[0;34m\u001b[0m\u001b[0;34m\u001b[0m\u001b[0m\n\u001b[0;32m-> 1828\u001b[0;31m                             \u001b[0;32mraise\u001b[0m \u001b[0mexception\u001b[0m\u001b[0;34m.\u001b[0m\u001b[0mwith_traceback\u001b[0m\u001b[0;34m(\u001b[0m\u001b[0mtraceback\u001b[0m\u001b[0;34m)\u001b[0m\u001b[0;34m\u001b[0m\u001b[0;34m\u001b[0m\u001b[0m\n\u001b[0m\u001b[1;32m   1829\u001b[0m                         \u001b[0;32mraise\u001b[0m \u001b[0mexc\u001b[0m\u001b[0;34m\u001b[0m\u001b[0;34m\u001b[0m\u001b[0m\n\u001b[1;32m   1830\u001b[0m                     \u001b[0;32mif\u001b[0m \u001b[0merrors\u001b[0m \u001b[0;34m==\u001b[0m \u001b[0;34m\"skip\"\u001b[0m\u001b[0;34m:\u001b[0m\u001b[0;34m\u001b[0m\u001b[0;34m\u001b[0m\u001b[0m\n",
      "\u001b[0;31mKilledWorker\u001b[0m: (\"('detrend-filter-lambda-RFdecon-6deddebd4dbe5d32c5bd8a701d29e16b', 2)\", <Worker 'tcp://206.76.206.14:41902', name: tcp://206.76.206.14:41902, memory: 0, processing: 1>)"
     ]
    }
   ],
   "source": [
    "import dask.bag\n",
    "from dask.distributed import Client as DaskClient\n",
    "from mspasspy.db.database import read_distributed_data\n",
    "\n",
    "# initialize the dask client\n",
    "daskclient = DaskClient(hostname + ':8786')\n",
    "#print(daskclient.scheduler_info())\n",
    "\n",
    "# input data size\n",
    "record_num = 10\n",
    "# start timing\n",
    "t0=time.time()\n",
    "cursor=db.wf_Seismogram.find({},limit=record_num)\n",
    "# read -> detrend -> filter -> window -> deconvolution\n",
    "data = read_distributed_data(db, cursor)\n",
    "data_det = data.map(signals.detrend,'demean')\n",
    "data_fil = data_det.map(signals.filter,\"bandpass\",freqmin=0.01,freqmax=2.0)\n",
    "data_win = data_fil.map(window_seis)\n",
    "data_decon = data_fil.map(RFdecon, processor)\n",
    "data_list = data_decon.compute()\n",
    "t1=time.time()-t0\n",
    "print('Elapsed time for processing all = ',t1)"
   ]
  },
  {
   "cell_type": "code",
   "execution_count": null,
   "id": "75b241c3",
   "metadata": {},
   "outputs": [],
   "source": []
  }
 ],
 "metadata": {
  "kernelspec": {
   "display_name": "Python 3",
   "language": "python",
   "name": "python3"
  },
  "language_info": {
   "codemirror_mode": {
    "name": "ipython",
    "version": 3
   },
   "file_extension": ".py",
   "mimetype": "text/x-python",
   "name": "python",
   "nbconvert_exporter": "python",
   "pygments_lexer": "ipython3",
   "version": "3.6.9"
  }
 },
 "nbformat": 4,
 "nbformat_minor": 5
}
