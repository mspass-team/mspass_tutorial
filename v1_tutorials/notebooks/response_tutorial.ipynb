{
 "cells": [
  {
   "cell_type": "markdown",
   "metadata": {},
   "source": [
    "# Retrieving Response Data from channel collection\n",
    "If you constructed the site and channel collections from stationxml data downloaded from an FDSN data center and written to MongoDB with the mspass Database.save_inventory method, you can retrieve instrument response data and manipulate it with obspy.   This tutorial describes how to pull the required data form the database.  We refer the user to obpsy tutorials for information on how to use these data to do response corrections.\n",
    "\n",
    "We save "
   ]
  }
 ],
 "metadata": {
  "kernelspec": {
   "display_name": "Python 3",
   "language": "python",
   "name": "python3"
  },
  "language_info": {
   "codemirror_mode": {
    "name": "ipython",
    "version": 3
   },
   "file_extension": ".py",
   "mimetype": "text/x-python",
   "name": "python",
   "nbconvert_exporter": "python",
   "pygments_lexer": "ipython3",
   "version": "3.8.5"
  }
 },
 "nbformat": 4,
 "nbformat_minor": 4
}
